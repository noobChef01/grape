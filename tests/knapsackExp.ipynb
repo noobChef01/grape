{
 "cells": [
  {
   "cell_type": "code",
   "execution_count": 1,
   "metadata": {},
   "outputs": [],
   "source": [
    "import os\n",
    "import textwrap\n",
    "import random\n",
    "import json\n",
    "import time\n",
    "import multiprocessing as mp\n",
    "from os.path import join\n",
    "import grape\n",
    "import algorithms\n",
    "from EvalTree import EvalKnapSackTree\n",
    "import pandas as pd\n",
    "import numpy as np\n",
    "import matplotlib.pyplot as plt\n",
    "from deap import creator, base, tools\n",
    "import warnings\n",
    "from tqdm import tqdm\n",
    "\n",
    "warnings.filterwarnings(\"ignore\")"
   ]
  },
  {
   "cell_type": "code",
   "execution_count": 26,
   "metadata": {},
   "outputs": [],
   "source": [
    "# # Genrate a random knapsack\n",
    "# def gen_knapsack(n_items, value_range, weight_range, out_file):\n",
    "#     items = {i: {\"value\": random.randint(\n",
    "#         *value_range), \"weight\": random.randint(*weight_range)} for i in range(1, n_items+1)}\n",
    "\n",
    "#     with open(out_file, 'w') as file:\n",
    "#         json.dump(items, file)\n",
    "\n",
    "#     print(f\"Data written in file at path: {join(os.getcwd(), out_file)}\")\n",
    "\n",
    "# gen_knapsack(n_items=100, value_range=(1, 50), weight_range=(1, 100), out_file='./tests/knapsackWeights.json')\n"
   ]
  },
  {
   "cell_type": "code",
   "execution_count": 2,
   "metadata": {},
   "outputs": [
    {
     "name": "stdout",
     "output_type": "stream",
     "text": [
      "808 1539\n"
     ]
    }
   ],
   "source": [
    "\n",
    "# load saved weights\n",
    "meta_file_path = './tests/knapsackWeights.json'\n",
    "with open(meta_file_path) as file:\n",
    "    items = json.load(file)['meta']\n",
    "\n",
    "\n",
    "sum_weights = 0\n",
    "sum_values = 0\n",
    "for item in items:\n",
    "    sum_values += items[item][\"value\"]\n",
    "    sum_weights += items[item][\"weight\"]\n",
    "\n",
    "print(sum_values, sum_weights)\n"
   ]
  },
  {
   "cell_type": "code",
   "execution_count": 3,
   "metadata": {},
   "outputs": [],
   "source": [
    "\n",
    "# fitness and helper method\n",
    "\n",
    "def get_sack_meta(phenotype):\n",
    "    value, weight = 0, 0\n",
    "    for i, bit in enumerate(phenotype):\n",
    "        value += int(bit) * items[f'{i+1}'].get('value')\n",
    "        weight += int(bit) * items[f'{i+1}'].get('weight')\n",
    "    return value, weight\n",
    "\n",
    "\n",
    "# weight_threshold = int(input(\"Input weight threshold for knapsack: \"))\n",
    "weight_threshold = 1100\n",
    "\n",
    "\n",
    "def fitness_eval(individual, points=None):\n",
    "    if individual.invalid == True:\n",
    "        return np.NaN,\n",
    "    if individual.phenotype is None:\n",
    "        return np.NaN,\n",
    "    value, weight = get_sack_meta(individual.phenotype)\n",
    "    if weight > weight_threshold:\n",
    "        return np.NaN,\n",
    "    else:\n",
    "        return -value,\n"
   ]
  },
  {
   "cell_type": "code",
   "execution_count": 4,
   "metadata": {},
   "outputs": [
    {
     "name": "stdout",
     "output_type": "stream",
     "text": [
      "745\n"
     ]
    }
   ],
   "source": [
    "\n",
    "# solution using DP\n",
    "\n",
    "def knapSack(W_thres, weights, values, n_items):\n",
    "    K = [[0 for x in range(W_thres + 1)] for x in range(n_items + 1)]\n",
    "\n",
    "    # Build table K[][] in bottom up manner\n",
    "    for i in range(n_items + 1):\n",
    "        for w in range(W_thres + 1):\n",
    "            if i == 0 or w == 0:\n",
    "                K[i][w] = 0\n",
    "            elif weights[i-1] <= w:\n",
    "                K[i][w] = max(values[i-1]\n",
    "                              + K[i-1][w-weights[i-1]],\n",
    "                              K[i-1][w])\n",
    "            else:\n",
    "                K[i][w] = K[i-1][w]\n",
    "\n",
    "    return K[n_items][W_thres]\n",
    "\n",
    "\n",
    "# Driver code\n",
    "values = [items[item]['value'] for item in items]\n",
    "weights = [items[item]['weight'] for item in items]\n",
    "W_thres = weight_threshold\n",
    "n_items = len(values)\n",
    "print(knapSack(W_thres, weights, values, n_items))\n"
   ]
  },
  {
   "cell_type": "code",
   "execution_count": 8,
   "metadata": {},
   "outputs": [],
   "source": [
    "# Define toolbox objects for running experiments\n",
    "\n",
    "toolbox = base.Toolbox()\n",
    "\n",
    "# define a single objective, minimising fitness strategy:\n",
    "creator.create(\"FitnessMin\", base.Fitness, weights=(-1.0,))\n",
    "\n",
    "creator.create('Individual', grape.Individual, fitness=creator.FitnessMin)\n",
    "\n",
    "eval_tree = EvalKnapSackTree(\n",
    "    meta_file_path=meta_file_path, w_threshold=weight_threshold)\n",
    "\n",
    "# creator.create('Individual', grape.KnapsackIndividual,\n",
    "#                fitness=creator.FitnessMin)\n",
    "\n",
    "pop_init_method = getattr(grape, input(\n",
    "    \"Enter Population Initialization method: \"))\n",
    "toolbox.register(\"populationCreator\",\n",
    "                 pop_init_method, creator.Individual)\n",
    "# toolbox.register(\"populationCreator\",\n",
    "#  grape.sensible_initialisation_, creator.Individual)\n",
    "# toolbox.register(\"populationCreator\",\n",
    "#                  grape.PI_Grow_knapsack_AG, creator.Individual)\n",
    "\n",
    "\n",
    "toolbox.register(\"evaluate\", fitness_eval)\n",
    "\n",
    "# Tournament selection:\n",
    "toolbox.register(\"select\", tools.selTournament, tournsize=3)\n",
    "\n",
    "# Single-point crossover:\n",
    "toolbox.register(\"mate\", grape.crossover_onepoint)\n",
    "# toolbox.register(\"mate\", grape.crossover_onepoint_knapsack)\n",
    "\n",
    "# Flip-int mutation:\n",
    "toolbox.register(\"mutate\", grape.mutation_int_flip_per_codon)\n",
    "# toolbox.register(\"mutate\", grape.mutation_int_flip_per_codon_knapsack)\n",
    "\n",
    "# Grammar and hyperparameters\n",
    "\n",
    "GRAMMAR_FILE = 'knapsack.bnf'\n",
    "BNF_GRAMMAR = grape.Grammar(\n",
    "    join(\"./grammars\", GRAMMAR_FILE))\n",
    "\n",
    "N_RUNS = 1\n",
    "POPULATION_SIZE = 100\n",
    "MAX_GENERATIONS = 150\n",
    "P_CROSSOVER = 0.9\n",
    "P_MUTATION = 0.01\n",
    "ELITE_SIZE = round(0.01*POPULATION_SIZE)\n",
    "\n",
    "MAX_INIT_TREE_DEPTH = 27\n",
    "MIN_INIT_TREE_DEPTH = 23\n",
    "MAX_TREE_DEPTH = 31\n",
    "MAX_WRAPS = 0\n",
    "CODON_SIZE = 255\n",
    "\n",
    "maxListFitness = []\n",
    "avgListFitness = []\n",
    "minListFitness = []\n",
    "stdListFitness = []\n",
    "\n",
    "maxListSize = []\n",
    "avgListSize = []\n",
    "minListSize = []\n",
    "stdListSize = []"
   ]
  },
  {
   "cell_type": "code",
   "execution_count": 31,
   "metadata": {},
   "outputs": [],
   "source": [
    "# # Validate initialized population\n",
    "\n",
    "# population = toolbox.populationCreator(pop_size=POPULATION_SIZE,\n",
    "#                                         bnf_grammar=BNF_GRAMMAR,\n",
    "#                                         min_init_depth=MIN_INIT_TREE_DEPTH,\n",
    "#                                         max_init_depth=MAX_INIT_TREE_DEPTH,\n",
    "#                                         codon_size=CODON_SIZE,\n",
    "#                                         eval_tree=eval_tree)\n",
    "\n",
    "# for ind in population:\n",
    "#     value, weight = get_sack_meta(ind.phenotype)\n",
    "#     if weight <= weight_threshold:\n",
    "#         print(f'Individual: {ind.phenotype}, Value: {value}, Weight: {weight}')\n",
    "#     else:\n",
    "#         print(f'Individual: {ind.phenotype}, Value: {value}, Weight: {weight} !!!!! warning')"
   ]
  },
  {
   "cell_type": "code",
   "execution_count": 11,
   "metadata": {},
   "outputs": [
    {
     "ename": "AttributeError",
     "evalue": "'list' object has no attribute 'fitness'",
     "output_type": "error",
     "traceback": [
      "\u001b[0;31m---------------------------------------------------------------------------\u001b[0m",
      "\u001b[0;31mAttributeError\u001b[0m                            Traceback (most recent call last)",
      "\u001b[1;32m/home/sajid.m/Personal/internship/grape/knapsackExp.ipynb Cell 8\u001b[0m in \u001b[0;36m<cell line: 1>\u001b[0;34m()\u001b[0m\n\u001b[1;32m     <a href='vscode-notebook-cell:/home/sajid.m/Personal/internship/grape/knapsackExp.ipynb#X10sZmlsZQ%3D%3D?line=16'>17</a>\u001b[0m stats\u001b[39m.\u001b[39mregister(\u001b[39m\"\u001b[39m\u001b[39mmax\u001b[39m\u001b[39m\"\u001b[39m, np\u001b[39m.\u001b[39mnanmax)\n\u001b[1;32m     <a href='vscode-notebook-cell:/home/sajid.m/Personal/internship/grape/knapsackExp.ipynb#X10sZmlsZQ%3D%3D?line=18'>19</a>\u001b[0m \u001b[39m# perform the Grammatical Evolution flow:\u001b[39;00m\n\u001b[0;32m---> <a href='vscode-notebook-cell:/home/sajid.m/Personal/internship/grape/knapsackExp.ipynb#X10sZmlsZQ%3D%3D?line=19'>20</a>\u001b[0m population, logbook \u001b[39m=\u001b[39m algorithms\u001b[39m.\u001b[39;49mge_eaSimpleWithElitism(population, toolbox, cxpb\u001b[39m=\u001b[39;49mP_CROSSOVER, mutpb\u001b[39m=\u001b[39;49mP_MUTATION,\n\u001b[1;32m     <a href='vscode-notebook-cell:/home/sajid.m/Personal/internship/grape/knapsackExp.ipynb#X10sZmlsZQ%3D%3D?line=20'>21</a>\u001b[0m                                                         ngen\u001b[39m=\u001b[39;49mMAX_GENERATIONS, elite_size\u001b[39m=\u001b[39;49mELITE_SIZE,\n\u001b[1;32m     <a href='vscode-notebook-cell:/home/sajid.m/Personal/internship/grape/knapsackExp.ipynb#X10sZmlsZQ%3D%3D?line=21'>22</a>\u001b[0m                                                         bnf_grammar\u001b[39m=\u001b[39;49mBNF_GRAMMAR, codon_size\u001b[39m=\u001b[39;49mCODON_SIZE,\n\u001b[1;32m     <a href='vscode-notebook-cell:/home/sajid.m/Personal/internship/grape/knapsackExp.ipynb#X10sZmlsZQ%3D%3D?line=22'>23</a>\u001b[0m                                                         max_tree_depth\u001b[39m=\u001b[39;49mMAX_TREE_DEPTH,\n\u001b[1;32m     <a href='vscode-notebook-cell:/home/sajid.m/Personal/internship/grape/knapsackExp.ipynb#X10sZmlsZQ%3D%3D?line=23'>24</a>\u001b[0m                                                         points_train\u001b[39m=\u001b[39;49m\u001b[39mNone\u001b[39;49;00m,\n\u001b[1;32m     <a href='vscode-notebook-cell:/home/sajid.m/Personal/internship/grape/knapsackExp.ipynb#X10sZmlsZQ%3D%3D?line=24'>25</a>\u001b[0m                                                         stats\u001b[39m=\u001b[39;49mstats, halloffame\u001b[39m=\u001b[39;49mhof, verbose\u001b[39m=\u001b[39;49m\u001b[39mTrue\u001b[39;49;00m)\u001b[39m#, \u001b[39;00m\n\u001b[1;32m     <a href='vscode-notebook-cell:/home/sajid.m/Personal/internship/grape/knapsackExp.ipynb#X10sZmlsZQ%3D%3D?line=25'>26</a>\u001b[0m                                                         \u001b[39m# type='knapsack', eval_tree=eval_tree)\u001b[39;00m\n\u001b[1;32m     <a href='vscode-notebook-cell:/home/sajid.m/Personal/internship/grape/knapsackExp.ipynb#X10sZmlsZQ%3D%3D?line=27'>28</a>\u001b[0m max_fitness_values, mean_fitness_values \u001b[39m=\u001b[39m logbook\u001b[39m.\u001b[39mselect(\u001b[39m\"\u001b[39m\u001b[39mmax\u001b[39m\u001b[39m\"\u001b[39m, \u001b[39m\"\u001b[39m\u001b[39mavg\u001b[39m\u001b[39m\"\u001b[39m)\n",
      "File \u001b[0;32m~/Personal/internship/grape/algorithms.py:114\u001b[0m, in \u001b[0;36mge_eaSimpleWithElitism\u001b[0;34m(population, toolbox, cxpb, mutpb, ngen, elite_size, bnf_grammar, codon_size, max_tree_depth, points_train, points_test, stats, halloffame, verbose, type, eval_tree)\u001b[0m\n\u001b[1;32m    112\u001b[0m \u001b[39m# Evaluate the individuals with an invalid fitness\u001b[39;00m\n\u001b[1;32m    113\u001b[0m \u001b[39mfor\u001b[39;00m ind \u001b[39min\u001b[39;00m population:\n\u001b[0;32m--> 114\u001b[0m     \u001b[39mif\u001b[39;00m \u001b[39mnot\u001b[39;00m ind\u001b[39m.\u001b[39;49mfitness\u001b[39m.\u001b[39mvalid:\n\u001b[1;32m    115\u001b[0m         invalid_ind \u001b[39m=\u001b[39m ind\n\u001b[1;32m    116\u001b[0m         ind\u001b[39m.\u001b[39mfitness\u001b[39m.\u001b[39mvalues \u001b[39m=\u001b[39m toolbox\u001b[39m.\u001b[39mevaluate(invalid_ind, points_train)\n",
      "\u001b[0;31mAttributeError\u001b[0m: 'list' object has no attribute 'fitness'"
     ]
    }
   ],
   "source": [
    "for run in range(N_RUNS):\n",
    "    # create initial population (generation 0):\n",
    "    population = toolbox.populationCreator(pop_size=POPULATION_SIZE,\n",
    "                                            bnf_grammar=BNF_GRAMMAR,\n",
    "                                            min_init_depth=MIN_INIT_TREE_DEPTH,\n",
    "                                            max_init_depth=MAX_INIT_TREE_DEPTH,\n",
    "                                            codon_size=CODON_SIZE),#,\n",
    "                                            # eval_tree=eval_tree)\n",
    "    # define the hall-of-fame object:\n",
    "    hof = tools.HallOfFame(ELITE_SIZE)\n",
    "\n",
    "    # prepare the statistics object:\n",
    "    stats = tools.Statistics(key=lambda ind: ind.fitness.values)\n",
    "    stats.register(\"avg\", np.nanmean)\n",
    "    stats.register(\"std\", np.nanstd)\n",
    "    stats.register(\"min\", np.nanmin)\n",
    "    stats.register(\"max\", np.nanmax)\n",
    "\n",
    "    # perform the Grammatical Evolution flow:\n",
    "    population, logbook = algorithms.ge_eaSimpleWithElitism(population, toolbox, cxpb=P_CROSSOVER, mutpb=P_MUTATION,\n",
    "                                                            ngen=MAX_GENERATIONS, elite_size=ELITE_SIZE,\n",
    "                                                            bnf_grammar=BNF_GRAMMAR, codon_size=CODON_SIZE,\n",
    "                                                            max_tree_depth=MAX_TREE_DEPTH,\n",
    "                                                            points_train=None,\n",
    "                                                            stats=stats, halloffame=hof, verbose=True)#, \n",
    "                                                            # type='knapsack', eval_tree=eval_tree)\n",
    "\n",
    "    max_fitness_values, mean_fitness_values = logbook.select(\"max\", \"avg\")\n",
    "    min_fitness_values, std_fitness_values = logbook.select(\"min\", \"std\")\n",
    "    gen, invalid = logbook.select(\"gen\", \"invalid\")\n",
    "\n",
    "    avgListFitness.append(mean_fitness_values)\n",
    "    stdListFitness.append(std_fitness_values)\n",
    "    minListFitness.append(min_fitness_values)\n",
    "    maxListFitness.append(max_fitness_values)"
   ]
  },
  {
   "cell_type": "code",
   "execution_count": 7,
   "metadata": {},
   "outputs": [
    {
     "name": "stdout",
     "output_type": "stream",
     "text": [
      "Best Fitness Achieved: 717.0\n"
     ]
    },
    {
     "data": {
      "image/png": "[encoded data removed]",
      "text/plain": [
       "<Figure size 432x288 with 1 Axes>"
      ]
     },
     "metadata": {
      "needs_background": "light"
     },
     "output_type": "display_data"
    }
   ],
   "source": [
    "x = np.arange(MAX_GENERATIONS+1)\n",
    "avgArray = np.array(avgListFitness)\n",
    "stdArray = np.array(stdListFitness)\n",
    "minArray = np.array(minListFitness)\n",
    "maxArray = np.array(maxListFitness)\n",
    "plt.xlabel('Generation')\n",
    "plt.ylabel('Fitness')\n",
    "plt.title(\n",
    "    f'Max, Min and Average Fitness for Knapsack with {pop_init_method.__name__}')\n",
    "plt.errorbar(x, -avgArray.mean(0), yerr=-stdArray.mean(0),\n",
    "                label=\"Average\", color=\"Blue\")\n",
    "plt.errorbar(x, -minArray.mean(0), yerr=-\n",
    "                minArray.std(0), label=\"Best\", color=\"Green\")\n",
    "plt.errorbar(x, -maxArray.mean(0), yerr=-\n",
    "                maxArray.std(0), label=\"Worst\", color=\"Red\")\n",
    "# plt.savefig(f\"{pop_init_method.__name__}.png\")\n",
    "print(f\"Best Fitness Achieved: {np.max(-minArray)}\")"
   ]
  },
  {
   "cell_type": "code",
   "execution_count": null,
   "metadata": {},
   "outputs": [],
   "source": [
    "x = np.arange(MAX_GENERATIONS+1)\n",
    "avgArray = np.array(avgListFitness)\n",
    "stdArray = np.array(stdListFitness)\n",
    "minArray = np.array(minListFitness)\n",
    "maxArray = np.array(maxListFitness)\n",
    "plt.xlabel('Generation')\n",
    "plt.ylabel('Fitness')\n",
    "plt.title(\n",
    "    f'Max, Min and Average Fitness for Knapsack with {pop_init_method.__name__}')\n",
    "plt.errorbar(x, -avgArray.mean(0), yerr=-stdArray.mean(0),\n",
    "                label=\"Average\", color=\"Blue\")\n",
    "plt.errorbar(x, -minArray.mean(0), yerr=-\n",
    "                minArray.std(0), label=\"Best\", color=\"Green\")\n",
    "plt.errorbar(x, -maxArray.mean(0), yerr=-\n",
    "                maxArray.std(0), label=\"Worst\", color=\"Red\")\n",
    "# plt.savefig(f\"{pop_init_method.__name__}.png\")\n",
    "print(f\"Best Fitness Achieved: {np.max(-minArray)}\")"
   ]
  }
 ],
 "metadata": {
  "kernelspec": {
   "display_name": "Python 3.10.4 ('myenv': venv)",
   "language": "python",
   "name": "python3"
  },
  "language_info": {
   "codemirror_mode": {
    "name": "ipython",
    "version": 3
   },
   "file_extension": ".py",
   "mimetype": "text/x-python",
   "name": "python",
   "nbconvert_exporter": "python",
   "pygments_lexer": "ipython3",
   "version": "3.10.4"
  },
  "orig_nbformat": 4,
  "vscode": {
   "interpreter": {
    "hash": "631f704b9e8fafa5cc14b000c3d1822bff447ca4832cfc1f551814fb86cd020f"
   }
  }
 },
 "nbformat": 4,
 "nbformat_minor": 2
}
