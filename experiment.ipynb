{
 "cells": [
  {
   "cell_type": "code",
   "execution_count": 1,
   "metadata": {},
   "outputs": [],
   "source": [
    "\n",
    "# from ponyge2_adapted_files import Grammar, Individual, initialisation_PI_Grow, crossover_onepoint, mutation_int_flip_per_codon\n",
    "from ponyge2_adapted_files import Grammar, ge\n",
    "import algorithms\n",
    "from functions import div, plog, psqrt, exp\n",
    "from nltk import edit_distance\n",
    "\n",
    "from collections import Counter\n",
    "from os import path\n",
    "import pandas as pd\n",
    "import numpy as np\n",
    "import matplotlib.pyplot as plt\n",
    "from deap import creator, base, tools\n",
    "\n",
    "import warnings\n",
    "warnings.filterwarnings(\"ignore\")\n",
    "\n",
    "\n",
    "GRAMMAR_FILE = 'exp-grammar.bnf'"
   ]
  },
  {
   "cell_type": "code",
   "execution_count": 2,
   "metadata": {},
   "outputs": [],
   "source": [
    "import contextlib, os\n",
    "\n",
    "@contextlib.contextmanager\n",
    "def set_directory(path):\n",
    "    curdir= os.getcwd()\n",
    "    try: \n",
    "        yield os.chdir(os.path.join(curdir, path))\n",
    "    finally: os.chdir(curdir)"
   ]
  },
  {
   "cell_type": "code",
   "execution_count": 3,
   "metadata": {},
   "outputs": [],
   "source": [
    "from parser import Parser, parse\n",
    "from lexer import Lexer"
   ]
  },
  {
   "cell_type": "code",
   "execution_count": 4,
   "metadata": {},
   "outputs": [
    {
     "name": "stdout",
     "output_type": "stream",
     "text": [
      "4*8/0\n"
     ]
    }
   ],
   "source": [
    "parse(\"4*8/0\")"
   ]
  },
  {
   "cell_type": "code",
   "execution_count": null,
   "metadata": {},
   "outputs": [],
   "source": [
    "BNF_GRAMMAR = Grammar(path.join(\"grammars\", GRAMMAR_FILE))"
   ]
  },
  {
   "cell_type": "code",
   "execution_count": null,
   "metadata": {},
   "outputs": [],
   "source": [
    "import numpy as np"
   ]
  },
  {
   "cell_type": "code",
   "execution_count": 6,
   "metadata": {},
   "outputs": [],
   "source": [
    "x = np.arange(0, 10)\n",
    "y = lambda x: 2 * x + 1\n",
    "noise = np.random.randint(0, 4, size=x.shape)\n",
    "y_noised = y(x) + noise"
   ]
  },
  {
   "cell_type": "code",
   "execution_count": 7,
   "metadata": {},
   "outputs": [
    {
     "data": {
      "text/plain": [
       "<matplotlib.collections.PathCollection at 0x7fc0586ed390>"
      ]
     },
     "execution_count": 7,
     "metadata": {},
     "output_type": "execute_result"
    },
    {
     "data": {
      "image/png": "[encoded data removed]",
      "text/plain": [
       "<Figure size 432x288 with 1 Axes>"
      ]
     },
     "metadata": {
      "needs_background": "light"
     },
     "output_type": "display_data"
    }
   ],
   "source": [
    "plt.scatter(x, y_noised)"
   ]
  },
  {
   "cell_type": "code",
   "execution_count": 9,
   "metadata": {},
   "outputs": [],
   "source": [
    "def fitness_eval(individual, points):\n",
    "    #points = [X, Y]\n",
    "    x = points[0]\n",
    "    y = points[1]\n",
    "    \n",
    "    if individual.invalid == True:\n",
    "        return np.NaN,\n",
    "\n",
    "    try:\n",
    "        pred = eval(individual.phenotype)\n",
    "    except (FloatingPointError, ZeroDivisionError, OverflowError,\n",
    "            MemoryError, ValueError):\n",
    "        return np.NaN,\n",
    "    assert np.isrealobj(pred)\n",
    "    \n",
    "    try:\n",
    "        fitness = np.mean(np.square(y - pred))\n",
    "    except (FloatingPointError, ZeroDivisionError, OverflowError,\n",
    "            MemoryError, ValueError):\n",
    "        fitness = np.NaN\n",
    "        \n",
    "    if fitness == float(\"inf\"):\n",
    "        return np.NaN,\n",
    "    \n",
    "    return fitness,"
   ]
  },
  {
   "cell_type": "code",
   "execution_count": 10,
   "metadata": {},
   "outputs": [],
   "source": [
    "toolbox = base.Toolbox()\n",
    "\n",
    "# define a single objective, minimising fitness strategy:\n",
    "creator.create(\"FitnessMin\", base.Fitness, weights=(-1.0,))\n",
    "\n",
    "creator.create('Individual', ge.Individual, fitness=creator.FitnessMin)\n",
    "\n",
    "toolbox.register(\"populationCreator\", ge.initialisation_PI_Grow, creator.Individual) \n",
    "\n",
    "toolbox.register(\"evaluate\", fitness_eval)#, points=[X_train, Y_train])\n",
    "\n",
    "# Tournament selection:\n",
    "toolbox.register(\"select\", ge.selTournament, tournsize=3)\n",
    "\n",
    "# Single-point crossover:\n",
    "toolbox.register(\"mate\", ge.crossover_onepoint)\n",
    "\n",
    "# Flip-int mutation:\n",
    "toolbox.register(\"mutate\", ge.mutation_int_flip_per_codon)"
   ]
  },
  {
   "cell_type": "code",
   "execution_count": 11,
   "metadata": {},
   "outputs": [],
   "source": [
    "POPULATION_SIZE = 100\n",
    "MAX_GENERATIONS = 50\n",
    "P_CROSSOVER = 0.8\n",
    "P_MUTATION = 0.01\n",
    "ELITE_SIZE = round(0.01*POPULATION_SIZE)\n",
    "\n",
    "HALL_OF_FAME_SIZE = 1\n",
    "MAX_INIT_TREE_DEPTH = 10\n",
    "MIN_INIT_TREE_DEPTH = 1\n",
    "MAX_TREE_DEPTH = 15\n",
    "MAX_WRAPS = 0\n",
    "CODON_SIZE = 255"
   ]
  },
  {
   "cell_type": "code",
   "execution_count": null,
   "metadata": {},
   "outputs": [],
   "source": [
    "# create initial population (generation 0):\n",
    "population = toolbox.populationCreator(size=POPULATION_SIZE, \n",
    "                                        bnf_grammar=BNF_GRAMMAR, \n",
    "                                        min_init_tree_depth=MIN_INIT_TREE_DEPTH,\n",
    "                                        max_init_tree_depth=MAX_INIT_TREE_DEPTH,\n",
    "                                        max_tree_depth=MAX_TREE_DEPTH, \n",
    "                                        max_wraps=MAX_WRAPS,\n",
    "                                        codon_size=CODON_SIZE\n",
    "                                        )"
   ]
  }
 ],
 "metadata": {
  "interpreter": {
   "hash": "ebeabf5d06ed91028509ad9805f066b44b9c23fee1bc267ef60668837e5ac050"
  },
  "kernelspec": {
   "display_name": "Python 3.6.9 ('project_dir': venv)",
   "language": "python",
   "name": "python3"
  },
  "language_info": {
   "codemirror_mode": {
    "name": "ipython",
    "version": 3
   },
   "file_extension": ".py",
   "mimetype": "text/x-python",
   "name": "python",
   "nbconvert_exporter": "python",
   "pygments_lexer": "ipython3",
   "version": "3.6.9"
  },
  "orig_nbformat": 4
 },
 "nbformat": 4,
 "nbformat_minor": 2
}
