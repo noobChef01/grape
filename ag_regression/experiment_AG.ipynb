{
 "cells": [
  {
   "cell_type": "code",
   "execution_count": 1,
   "metadata": {},
   "outputs": [],
   "source": [
    "from ponyge2_adapted_files import Grammar, ge\n",
    "import algorithms\n",
    "from functions import div, plog, psqrt, exp\n",
    "from nltk import edit_distance\n",
    "\n",
    "from collections import Counter\n",
    "from os import path\n",
    "import pandas as pd\n",
    "import numpy as np\n",
    "import matplotlib.pyplot as plt\n",
    "from deap import creator, base, tools\n",
    "from sklearn.model_selection import train_test_split\n",
    "from parser_files_reg.parser import parse\n",
    "\n",
    "import warnings\n",
    "warnings.filterwarnings(\"ignore\")"
   ]
  },
  {
   "cell_type": "code",
   "execution_count": 2,
   "metadata": {},
   "outputs": [],
   "source": [
    "x = np.arange(0, 100)\n",
    "y = lambda x: 12.5 * x + 4\n",
    "noise = 100* np.random.normal(0, 1, size=x.shape)\n",
    "y_noised = y(x) + noise\n",
    "\n",
    "X_train, X_test, y_train, y_test = train_test_split(x, y_noised, test_size=0.1, shuffle=True) "
   ]
  },
  {
   "cell_type": "code",
   "execution_count": 3,
   "metadata": {},
   "outputs": [
    {
     "data": {
      "image/png": "[encoded data removed]",
      "text/plain": [
       "<Figure size 432x288 with 1 Axes>"
      ]
     },
     "metadata": {
      "needs_background": "light"
     },
     "output_type": "display_data"
    }
   ],
   "source": [
    "plt.scatter(X_train, y_train)\n",
    "plt.title(\"Train data\")\n",
    "plt.xlabel(\"x\")\n",
    "plt.ylabel(\"y\")\n",
    "plt.show()"
   ]
  },
  {
   "cell_type": "code",
   "execution_count": 4,
   "metadata": {},
   "outputs": [
    {
     "data": {
      "image/png": "[encoded data removed]",
      "text/plain": [
       "<Figure size 432x288 with 1 Axes>"
      ]
     },
     "metadata": {
      "needs_background": "light"
     },
     "output_type": "display_data"
    }
   ],
   "source": [
    "plt.scatter(X_test, y_test)\n",
    "plt.title(\"Test data\")\n",
    "plt.xlabel(\"x\")\n",
    "plt.ylabel(\"y\")\n",
    "plt.show()"
   ]
  },
  {
   "cell_type": "code",
   "execution_count": 5,
   "metadata": {},
   "outputs": [],
   "source": [
    "GRAMMAR_FILE = 'exp-grammar.bnf'\n",
    "BNF_GRAMMAR = Grammar(path.join(\"grammars\", GRAMMAR_FILE))"
   ]
  },
  {
   "cell_type": "code",
   "execution_count": 6,
   "metadata": {},
   "outputs": [],
   "source": [
    "def write_stat(value, file_name):\n",
    "    with open(file_name, \"w\") as write_file:\n",
    "        write_file.write(str(value))\n",
    "\n",
    "\n",
    "def read_stat(file_name):\n",
    "    with open(file_name, \"r\") as write_file:\n",
    "        cnt = int(write_file.read())\n",
    "    return cnt"
   ]
  },
  {
   "cell_type": "code",
   "execution_count": 7,
   "metadata": {},
   "outputs": [],
   "source": [
    "### cold-start\n",
    "with open(\"statistics.txt\", \"w\") as write_file:\n",
    "    write_file.write(str(0))"
   ]
  },
  {
   "cell_type": "code",
   "execution_count": 8,
   "metadata": {},
   "outputs": [],
   "source": [
    "def fitness_eval(individual, points):\n",
    "    #points = [X, Y]\n",
    "    x = points[0]\n",
    "    y = points[1]\n",
    "    \n",
    "    if individual.invalid == True:\n",
    "        return np.NaN,\n",
    "    try:\n",
    "        # pred = eval(individual.phenotype)\n",
    "        pred = eval(parse(individual.phenotype))\n",
    "    # except (FloatingPointError, ZeroDivisionError, OverflowError,\n",
    "    #         MemoryError, ValueError):\n",
    "    except Exception as e:\n",
    "        cnt = read_stat(\"statistics.txt\") + 1\n",
    "        write_stat(cnt, \"statistics.txt\")\n",
    "        # write_stat(e, \"statistics.txt\")\n",
    "        return np.NaN,\n",
    "    assert np.isrealobj(pred)\n",
    "    \n",
    "    try:\n",
    "        fitness = np.mean(np.absolute(y - pred))\n",
    "    # except (FloatingPointError, ZeroDivisionError, OverflowError,\n",
    "    #         MemoryError, ValueError):\n",
    "    except Exception as e:\n",
    "        # cnt = read_stat(\"statistics.txt\") + 1\n",
    "        write_stat(cnt, \"statistics.txt\")\n",
    "        # write_stat(e, \"statistics.txt\")\n",
    "        fitness = np.NaN\n",
    "        \n",
    "    if fitness == float(\"inf\"):\n",
    "        return np.NaN,\n",
    "    \n",
    "    return fitness,"
   ]
  },
  {
   "cell_type": "code",
   "execution_count": 9,
   "metadata": {},
   "outputs": [],
   "source": [
    "toolbox = base.Toolbox()\n",
    "\n",
    "# define a single objective, minimising fitness strategy:\n",
    "creator.create(\"FitnessMin\", base.Fitness, weights=(-1.0,))\n",
    "\n",
    "creator.create('Individual', ge.Individual, fitness=creator.FitnessMin)\n",
    "\n",
    "toolbox.register(\"populationCreator\", ge.initialisation_PI_Grow, creator.Individual) \n",
    "\n",
    "toolbox.register(\"evaluate\", fitness_eval)#, points=[X_train, Y_train])\n",
    "\n",
    "# Tournament selection:\n",
    "toolbox.register(\"select\", ge.selTournament, tournsize=3)\n",
    "\n",
    "# Single-point crossover:\n",
    "toolbox.register(\"mate\", ge.crossover_onepoint)\n",
    "\n",
    "# Flip-int mutation:\n",
    "toolbox.register(\"mutate\", ge.mutation_int_flip_per_codon)"
   ]
  },
  {
   "cell_type": "code",
   "execution_count": 10,
   "metadata": {},
   "outputs": [],
   "source": [
    "N_RUNS = 32\n",
    "POPULATION_SIZE = 200\n",
    "MAX_GENERATIONS = 150\n",
    "P_CROSSOVER = 0.9\n",
    "P_MUTATION = 0.01\n",
    "ELITE_SIZE = round(0.01*POPULATION_SIZE)\n",
    "\n",
    "HALL_OF_FAME_SIZE = 1\n",
    "MAX_INIT_TREE_DEPTH = 5\n",
    "MIN_INIT_TREE_DEPTH = 1\n",
    "MAX_TREE_DEPTH = 8\n",
    "MAX_WRAPS = 0\n",
    "CODON_SIZE = 255"
   ]
  },
  {
   "cell_type": "code",
   "execution_count": 11,
   "metadata": {},
   "outputs": [],
   "source": [
    "# create initial population (generation 0):\n",
    "population = toolbox.populationCreator(size=POPULATION_SIZE, \n",
    "                                        bnf_grammar=BNF_GRAMMAR, \n",
    "                                        min_init_tree_depth=MIN_INIT_TREE_DEPTH,\n",
    "                                        max_init_tree_depth=MAX_INIT_TREE_DEPTH,\n",
    "                                        max_tree_depth=MAX_TREE_DEPTH, \n",
    "                                        max_wraps=MAX_WRAPS,\n",
    "                                        codon_size=CODON_SIZE\n",
    "                                        )"
   ]
  },
  {
   "cell_type": "code",
   "execution_count": 12,
   "metadata": {},
   "outputs": [],
   "source": [
    "# define the hall-of-fame object:\n",
    "hof = tools.HallOfFame(HALL_OF_FAME_SIZE)\n",
    "\n",
    "# prepare the statistics object:\n",
    "#stats = tools.Statistics(key=lambda ind: ind.fitness.values if math.isnan(ind.fitness.values[0]) else None)#ind.fitness.values != np.inf else None)\n",
    "#stats = tools.Statistics(key=lambda ind: ind.fitness.values[0] if not math.isnan(ind.fitness.values[0]) else np.NaN)#ind.fitness.values != np.inf else None)\n",
    "stats = tools.Statistics(key=lambda ind: ind.fitness.values)# if not ind.invalid else (np.NaN,))#ind.fitness.values != np.inf else None)\n",
    "stats.register(\"avg\", np.nanmean)\n",
    "stats.register(\"std\", np.nanstd)\n",
    "stats.register(\"min\", np.nanmin)\n",
    "stats.register(\"max\", np.nanmax)"
   ]
  },
  {
   "cell_type": "code",
   "execution_count": 13,
   "metadata": {},
   "outputs": [
    {
     "name": "stdout",
     "output_type": "stream",
     "text": [
      "gen\tinvalid\tavg        \tstd        \tmin    \tmax        \tfitness_test\tbest_ind_length\tavg_length\tmax_length\tselection_time\tgeneration_time\n",
      "0  \t0      \t2.20223e+10\t3.10208e+11\t333.827\t4.39805e+12\t199.815     \t21             \t8.47      \t22        \t0             \t0.251589       \n",
      "1  \t60     \t124548     \t1.41275e+06\t333.827\t1.67765e+07\t199.815     \t21             \t7.095     \t25        \t0.00220442    \t0.131215       \n",
      "2  \t33     \t2142.67    \t20220.8    \t333.827\t262653     \t199.815     \t21             \t9.215     \t27        \t0.000882626   \t0.10367        \n",
      "3  \t29     \t2195.17    \t19898.2    \t333.827\t261507     \t199.815     \t21             \t12.005    \t42        \t0.00117874    \t0.111471       \n",
      "4  \t22     \t833.389    \t2448.95    \t330.045\t32131.2    \t183.015     \t36             \t14.83     \t38        \t0.00103307    \t0.129822       \n",
      "5  \t19     \t3.53599e+07\t4.74392e+08\t330.045\t6.4e+09    \t183.015     \t36             \t17.245    \t37        \t0.00120711    \t0.131108       \n",
      "6  \t15     \t3.45955e+07\t4.69264e+08\t330.045\t6.4e+09    \t230.803     \t38             \t18.83     \t40        \t0.00086689    \t0.122466       \n",
      "7  \t9      \t962.212    \t2518       \t330.045\t32259.2    \t230.803     \t38             \t19.54     \t41        \t0.00195765    \t0.123909       \n",
      "8  \t15     \t2.21405e+09\t3.00329e+10\t330.045\t4.096e+11  \t230.803     \t38             \t21.375    \t53        \t0.000873566   \t0.13324        \n",
      "9  \t11     \t811.738    \t1140.96    \t330.045\t7555.16    \t230.803     \t38             \t23.78     \t45        \t0.00115252    \t0.124019       \n",
      "10 \t26     \t2808.34    \t20114.9    \t330.045\t261507     \t230.803     \t38             \t25.455    \t45        \t0.00114226    \t0.148805       \n",
      "11 \t14     \t1310.05    \t4140.8     \t330.045\t33204.8    \t230.803     \t38             \t27.055    \t49        \t0.00139689    \t0.143517       \n",
      "12 \t11     \t2.1672e+09 \t2.97151e+10\t330.045\t4.096e+11  \t230.803     \t25             \t26.685    \t56        \t0.00107193    \t0.178296       \n",
      "13 \t11     \t1217.11    \t4044.1     \t330.045\t32131.2    \t230.803     \t25             \t28.71     \t51        \t0.000926256   \t0.136003       \n",
      "14 \t14     \t1117.88    \t3404.67    \t330.045\t32200.2    \t230.803     \t25             \t29.38     \t55        \t0.00101233    \t0.152596       \n",
      "15 \t11     \t2.1672e+09 \t2.97151e+10\t330.045\t4.096e+11  \t230.803     \t25             \t29.015    \t61        \t0.0018127     \t0.11595        \n",
      "16 \t17     \t1486.19    \t4573.11    \t330.045\t32195.2    \t230.803     \t25             \t30.355    \t62        \t0.00102925    \t0.108285       \n",
      "17 \t18     \t1384.5     \t4727.77    \t330.045\t32715.2    \t230.803     \t25             \t31.915    \t62        \t0.000884295   \t0.129037       \n",
      "18 \t16     \t2.50435e+09\t3.03279e+10\t330.045\t4.096e+11  \t230.803     \t25             \t31.225    \t56        \t0.00103617    \t0.109577       \n",
      "19 \t11     \t3223.8     \t19657.9    \t329.87 \t261571     \t180.674     \t44             \t30.89     \t59        \t0.0010891     \t0.119442       \n",
      "20 \t10     \t1223.02    \t3398.13    \t329.87 \t32195.2    \t180.674     \t44             \t32.235    \t63        \t0.00106454    \t0.115932       \n",
      "21 \t10     \t12245.8    \t151667     \t329.87 \t2.09658e+06\t180.674     \t44             \t33.455    \t70        \t0.00103927    \t0.12264        \n",
      "22 \t15     \t2.21406e+09\t3.00329e+10\t329.87 \t4.096e+11  \t180.674     \t44             \t33.365    \t62        \t0.00104451    \t0.111071       \n",
      "23 \t14     \t2428.73    \t19223.8    \t329.87 \t261580     \t180.674     \t44             \t32.105    \t66        \t0.00193977    \t0.164506       \n",
      "24 \t11     \t719.938    \t997.566    \t329.867\t4611.16    \t186.215     \t40             \t33.73     \t68        \t0.00113535    \t0.146295       \n",
      "25 \t14     \t2740.72    \t19519.5    \t329.852\t261572     \t186.615     \t32             \t34.54     \t71        \t0.00104141    \t0.110009       \n",
      "26 \t10     \t969.382    \t2543.35    \t329.852\t32131.2    \t186.615     \t32             \t34        \t74        \t0.00115585    \t0.164566       \n",
      "27 \t17     \t880.849    \t2011.16    \t329.852\t24067.2    \t186.615     \t32             \t34.91     \t67        \t0.0038681     \t0.145936       \n",
      "28 \t24     \t3842.67    \t27810.5    \t329.852\t262595     \t186.615     \t32             \t34.84     \t74        \t0.00110269    \t0.184755       \n",
      "29 \t12     \t2513.35    \t19334.6    \t329.852\t261714     \t186.615     \t32             \t35.205    \t74        \t0.00112867    \t0.20376        \n",
      "30 \t23     \t1257.64    \t4702.16    \t329.852\t36730.2    \t186.615     \t32             \t36.825    \t77        \t0.00218582    \t0.136596       \n",
      "31 \t10     \t905.163    \t1197.38    \t329.852\t4668.84    \t186.615     \t32             \t37.31     \t79        \t0.00136352    \t0.131095       \n",
      "32 \t16     \t1033.87    \t3613.58    \t329.852\t36287.2    \t186.615     \t32             \t38.715    \t83        \t0.000986576   \t0.131078       \n",
      "33 \t18     \t2508.87    \t19594.7    \t329.852\t261571     \t186.615     \t33             \t40.725    \t80        \t0.00104666    \t0.115335       \n",
      "34 \t14     \t2750.5     \t19640.3    \t329.852\t261507     \t186.615     \t33             \t39.845    \t83        \t0.000953436   \t0.118216       \n",
      "35 \t13     \t1238.28    \t3867.41    \t329.852\t37427.8    \t186.615     \t33             \t39.815    \t84        \t0.00208759    \t0.192486       \n",
      "36 \t17     \t929.43     \t2804.93    \t329.852\t36282.2    \t186.615     \t33             \t40.67     \t75        \t0.000912905   \t0.120102       \n",
      "37 \t15     \t3362       \t23990.4    \t329.852\t261571     \t186.615     \t33             \t43.075    \t75        \t0.00101709    \t0.109109       \n",
      "38 \t9      \t1308.02    \t4533.29    \t329.852\t36286.2    \t186.615     \t33             \t44.77     \t77        \t0.000912666   \t0.114182       \n",
      "39 \t18     \t5816.4     \t33539.5    \t329.852\t262645     \t186.615     \t33             \t47.5      \t81        \t0.0013442     \t0.116765       \n",
      "40 \t16     \t1223.85    \t4592.03    \t329.852\t36287.2    \t186.615     \t33             \t46.875    \t90        \t0.000895262   \t0.115801       \n",
      "41 \t19     \t3604.66    \t20362.1    \t329.852\t261571     \t186.615     \t33             \t45.985    \t90        \t0.000941038   \t0.121024       \n",
      "42 \t9      \t3485.01    \t19839.6    \t329.852\t261443     \t186.615     \t33             \t48.14     \t90        \t0.00088954    \t0.119207       \n",
      "43 \t11     \t2522.74    \t19276.2    \t329.852\t261571     \t186.615     \t33             \t49.825    \t89        \t0.00118947    \t0.1231         \n",
      "44 \t20     \t14729.8    \t175294     \t329.852\t2.35872e+06\t186.615     \t33             \t50.61     \t88        \t0.000909805   \t0.116181       \n",
      "45 \t27     \t1462.99    \t4757.39    \t329.852\t36362.2    \t186.615     \t33             \t52.825    \t91        \t0.000930309   \t0.119731       \n",
      "46 \t14     \t4164.28    \t27224.2    \t329.852\t261571     \t186.615     \t33             \t51.955    \t89        \t0.000977993   \t0.117142       \n",
      "47 \t16     \t1889.02    \t5939.19    \t329.852\t37124.8    \t186.615     \t33             \t54.04     \t102       \t0.00181007    \t0.127986       \n",
      "48 \t22     \t14358.4    \t176251     \t329.852\t2.35871e+06\t186.615     \t33             \t53.185    \t94        \t0.00102997    \t0.129103       \n",
      "49 \t23     \t3.25428e+08\t4.31723e+09\t329.852\t5.76e+10   \t186.615     \t33             \t53.695    \t105       \t0.00160766    \t0.126926       \n",
      "50 \t16     \t6.9567e+07 \t6.63609e+08\t329.852\t6.4e+09    \t186.615     \t33             \t52.055    \t93        \t0.00102043    \t0.119494       \n",
      "51 \t20     \t1687.49    \t5784.74    \t329.852\t36285.2    \t186.615     \t33             \t53.57     \t101       \t0.00139451    \t0.123518       \n",
      "52 \t25     \t2749.16    \t20176.4    \t329.852\t262083     \t186.615     \t33             \t52.505    \t96        \t0.000988007   \t0.151561       \n",
      "53 \t22     \t1291.8     \t3950.85    \t329.852\t36282.2    \t186.615     \t33             \t51.51     \t103       \t0.0012145     \t0.113418       \n",
      "54 \t25     \t1804.54    \t6512.07    \t329.852\t36287.2    \t186.615     \t33             \t52.715    \t111       \t0.00125527    \t0.119305       \n",
      "55 \t13     \t643178     \t8.75167e+06\t329.852\t1.2e+08    \t186.615     \t33             \t50.285    \t107       \t0.00123215    \t0.140992       \n",
      "56 \t11     \t3576.57    \t24708.3    \t329.852\t331203     \t186.615     \t33             \t49.825    \t104       \t0.00104713    \t0.128636       \n",
      "57 \t11     \t3180.73    \t19836.2    \t329.852\t261571     \t186.615     \t33             \t53.825    \t111       \t0.000994682   \t0.154377       \n",
      "58 \t20     \t7.11136e+07\t6.70861e+08\t329.852\t6.4e+09    \t186.615     \t33             \t59.155    \t115       \t0.000986099   \t0.14532        \n",
      "59 \t19     \t17954.9    \t176966     \t329.852\t2.35866e+06\t186.615     \t33             \t58.765    \t114       \t0.00128531    \t0.145278       \n",
      "60 \t25     \t2251.84    \t7058.47    \t329.852\t37375.8    \t186.615     \t33             \t58.69     \t117       \t0.000960112   \t0.12011        \n",
      "61 \t18     \t1688.8     \t5913.09    \t329.852\t36869.8    \t186.615     \t33             \t61.065    \t121       \t0.000946999   \t0.114847       \n",
      "62 \t13     \t2251.57    \t7668.13    \t329.852\t36291.2    \t186.615     \t33             \t61.635    \t125       \t0.00104523    \t0.127432       \n",
      "63 \t19     \t1908.43    \t5987.61    \t329.852\t36291.2    \t186.615     \t33             \t65.705    \t126       \t0.00145435    \t0.118221       \n",
      "64 \t18     \t29713.8    \t246796     \t329.852\t2.35872e+06\t186.615     \t33             \t60.53     \t130       \t0.000992298   \t0.125135       \n",
      "65 \t19     \t2.212e+06  \t2.96494e+07\t329.852\t4e+08      \t186.615     \t33             \t61.61     \t122       \t0.00162578    \t0.120206       \n",
      "66 \t17     \t1644.07    \t5913.38    \t329.852\t37430.8    \t186.615     \t33             \t61.605    \t119       \t0.000928402   \t0.114334       \n",
      "67 \t17     \t4286.93    \t20942.2    \t329.852\t261571     \t186.615     \t33             \t59.35     \t118       \t0.0013051     \t0.122585       \n",
      "68 \t21     \t4.52554e+07\t6.03729e+08\t329.852\t8.1e+09    \t186.615     \t33             \t58.245    \t119       \t0.000965357   \t0.115193       \n",
      "69 \t18     \t2561.25    \t7791.46    \t329.852\t37485.8    \t186.615     \t33             \t59.185    \t113       \t0.00114822    \t0.118917       \n",
      "70 \t19     \t2927.6     \t20007.8    \t329.852\t261571     \t186.615     \t33             \t57.175    \t118       \t0.00133014    \t0.121304       \n",
      "71 \t17     \t3510.23    \t20261      \t329.852\t262138     \t186.615     \t33             \t57.445    \t124       \t0.00129628    \t0.118355       \n",
      "72 \t21     \t20092.4    \t190346     \t329.852\t2.35879e+06\t186.615     \t33             \t55.15     \t116       \t0.00101495    \t0.11676        \n",
      "73 \t23     \t1951.58    \t6012.54    \t329.852\t36488.2    \t186.615     \t33             \t56.7      \t113       \t0.0010941     \t0.117274       \n",
      "74 \t22     \t3.65185e+07\t4.78367e+08\t329.852\t6.4e+09    \t186.615     \t33             \t58.845    \t117       \t0.000888348   \t0.114161       \n",
      "75 \t24     \t7857.97    \t78861.7    \t329.852\t1.048e+06  \t186.615     \t33             \t60.19     \t113       \t0.000926733   \t0.137032       \n",
      "76 \t15     \t2458.91    \t12223.9    \t329.852\t148084     \t186.615     \t33             \t61.915    \t107       \t0.00194621    \t0.152501       \n",
      "77 \t13     \t2732.34    \t19541.6    \t329.852\t261507     \t186.615     \t33             \t64.175    \t117       \t0.00102854    \t0.135086       \n",
      "78 \t28     \t2064.75    \t6840.78    \t329.852\t36667.2    \t186.615     \t33             \t62.225    \t123       \t0.000914812   \t0.120582       \n",
      "79 \t17     \t1447.43    \t5270.29    \t329.852\t36291.2    \t186.615     \t33             \t59.645    \t131       \t0.00106382    \t0.226263       \n",
      "80 \t19     \t4652.25    \t27396.7    \t329.852\t331194     \t186.615     \t33             \t58.71     \t120       \t0.00107884    \t0.123612       \n",
      "81 \t21     \t3.57687e+07\t4.77019e+08\t329.852\t6.4e+09    \t186.615     \t33             \t54.925    \t127       \t0.000961542   \t0.117486       \n",
      "82 \t18     \t3.51664e+07\t4.73094e+08\t329.852\t6.4e+09    \t186.615     \t33             \t53.11     \t127       \t0.00193453    \t0.121058       \n",
      "83 \t16     \t118503     \t1.56096e+06\t329.852\t2.12331e+07\t186.615     \t33             \t50.355    \t132       \t0.000947237   \t0.118884       \n",
      "84 \t11     \t2.8573e+07 \t3.91752e+08\t329.852\t5.4e+09    \t186.615     \t33             \t44.155    \t125       \t0.00106859    \t0.129073       \n",
      "85 \t15     \t78089.3    \t1.03101e+06\t329.852\t1.40625e+07\t186.615     \t33             \t45.08     \t122       \t0.00104642    \t0.123087       \n",
      "86 \t11     \t3795.83    \t22332.6    \t329.852\t261832     \t186.615     \t33             \t44.11     \t116       \t0.0017283     \t0.126208       \n",
      "87 \t16     \t3.51636e+08\t4.25812e+09\t329.852\t5.76e+10   \t186.615     \t33             \t43.76     \t108       \t0.000988722   \t0.12715        \n",
      "88 \t19     \t1969.88    \t6246.17    \t329.852\t45956.2    \t186.615     \t33             \t44.86     \t108       \t0.000983238   \t0.114741       \n",
      "89 \t25     \t126011     \t1.28704e+06\t329.852\t1.67766e+07\t186.615     \t33             \t46.805    \t112       \t0.000989199   \t0.114584       \n",
      "90 \t20     \t18071.8    \t176546     \t329.852\t2.35871e+06\t186.615     \t33             \t46.04     \t112       \t0.000995636   \t0.116898       \n",
      "91 \t21     \t3150.71    \t20120.1    \t329.852\t261571     \t186.615     \t33             \t49.25     \t122       \t0.000934839   \t0.114373       \n",
      "92 \t15     \t6.91918e+07\t6.61833e+08\t329.852\t6.4e+09    \t186.615     \t33             \t48.035    \t118       \t0.00117493    \t0.122426       \n",
      "93 \t19     \t1846.76    \t6036.44    \t329.852\t36869.8    \t186.615     \t33             \t45.82     \t115       \t0.00104809    \t0.115505       \n",
      "94 \t27     \t3552.4     \t20838.1    \t329.852\t261896     \t186.615     \t33             \t45.99     \t114       \t0.0016017     \t0.133852       \n",
      "95 \t22     \t1420.17    \t4684.71    \t329.852\t36287.2    \t186.615     \t33             \t48.935    \t84        \t0.00127029    \t0.141548       \n",
      "96 \t22     \t1450.54    \t5227.65    \t329.852\t36869.8    \t186.615     \t33             \t51.725    \t87        \t0.00087595    \t0.114691       \n",
      "97 \t20     \t3.20003e+08\t4.28131e+09\t329.852\t5.76e+10   \t186.615     \t33             \t55.385    \t91        \t0.00109553    \t0.12038        \n",
      "98 \t22     \t1326.39    \t4707.56    \t329.852\t37427.8    \t186.615     \t33             \t55.5      \t97        \t0.0010035     \t0.130455       \n",
      "99 \t24     \t1647.6     \t5808.27    \t329.852\t36282.2    \t186.615     \t33             \t55.345    \t100       \t0.00106382    \t0.1243         \n",
      "100\t15     \t14235      \t172916     \t329.852\t2.35872e+06\t186.615     \t33             \t55.125    \t105       \t0.00117016    \t0.122449       \n",
      "101\t22     \t5.0576e+06 \t6.7268e+07 \t329.852\t9e+08      \t186.615     \t33             \t55.535    \t105       \t0.00103712    \t0.11646        \n",
      "102\t19     \t3196.99    \t20139.4    \t329.852\t261571     \t186.615     \t33             \t54.58     \t102       \t0.00113344    \t0.135289       \n",
      "103\t23     \t3.30511e+08\t4.31738e+09\t329.852\t5.76e+10   \t186.615     \t33             \t53.11     \t100       \t0.00105596    \t0.127048       \n",
      "104\t15     \t1522.98    \t5611.62    \t329.852\t36291.1    \t186.615     \t33             \t53.765    \t107       \t0.000893831   \t0.118235       \n",
      "105\t9      \t2298.68    \t19038.8    \t329.852\t261968     \t186.615     \t33             \t51.385    \t103       \t0.000984192   \t0.152383       \n",
      "106\t11     \t4.76516e+06\t6.52917e+07\t329.852\t9e+08      \t186.615     \t33             \t49.5      \t100       \t0.000965118   \t0.126963       \n",
      "107\t15     \t4.867e+06  \t6.59901e+07\t329.852\t9e+08      \t186.615     \t33             \t48.35     \t101       \t0.000921488   \t0.13322        \n",
      "108\t14     \t1803.12    \t6075.94    \t329.852\t36869.8    \t186.615     \t33             \t47.88     \t102       \t0.00107765    \t0.116616       \n",
      "109\t9      \t1476.31    \t5184.99    \t329.852\t36291.2    \t186.615     \t33             \t50.2      \t101       \t0.00099659    \t0.124297       \n",
      "110\t16     \t3.48665e+07\t4.70525e+08\t329.852\t6.4e+09    \t186.615     \t33             \t50.295    \t103       \t0.00114584    \t0.128103       \n",
      "111\t20     \t3.55573e+07\t4.75701e+08\t329.852\t6.4e+09    \t186.615     \t33             \t50.735    \t117       \t0.00106478    \t0.120654       \n",
      "112\t23     \t1207.42    \t3937.04    \t329.852\t37445.8    \t186.615     \t33             \t50.91     \t116       \t0.00134468    \t0.132225       \n",
      "113\t18     \t28000.6    \t245767     \t329.852\t2.35871e+06\t186.615     \t33             \t48.935    \t120       \t0.0011456     \t0.137064       \n",
      "114\t18     \t3.16567e+08\t4.25784e+09\t329.852\t5.76e+10   \t186.615     \t33             \t53.65     \t125       \t0.000940084   \t0.149058       \n",
      "115\t28     \t3.34886e+08\t4.37917e+09\t329.852\t5.76e+10   \t186.615     \t33             \t53.18     \t132       \t0.00102448    \t0.129997       \n",
      "116\t21     \t4.08631e+07\t4.81335e+08\t329.852\t6.4e+09    \t186.615     \t33             \t55.315    \t143       \t0.000986576   \t0.128435       \n",
      "117\t26     \t2635.61    \t20040.4    \t329.852\t261896     \t186.615     \t33             \t60.35     \t142       \t0.00105262    \t0.128145       \n",
      "118\t26     \t1412.16    \t4737.71    \t329.852\t36282.2    \t186.615     \t33             \t57.745    \t138       \t0.00159335    \t0.119324       \n",
      "119\t26     \t1.4713e+08 \t1.93515e+09\t329.852\t2.56e+10   \t186.615     \t33             \t56.555    \t140       \t0.000900745   \t0.120151       \n",
      "120\t29     \t3.74287e+07\t4.87987e+08\t329.852\t6.4e+09    \t186.615     \t33             \t54.345    \t144       \t0.00142002    \t0.130914       \n",
      "121\t19     \t3285.09    \t20140.5    \t329.852\t261571     \t186.615     \t33             \t53.815    \t145       \t0.0012846     \t0.15373        \n",
      "122\t23     \t4144.56    \t27836.4    \t329.852\t262217     \t186.615     \t33             \t60.665    \t152       \t0.00099802    \t0.141159       \n",
      "123\t18     \t1004.4     \t2544.45    \t329.852\t32195.2    \t186.615     \t33             \t63.325    \t137       \t0.00124311    \t0.242915       \n",
      "124\t19     \t9.94905e+06\t9.40813e+07\t329.852\t9.00001e+08\t186.615     \t33             \t63.07     \t127       \t0.00100875    \t0.147752       \n",
      "125\t16     \t2522.34    \t19358.5    \t329.852\t261571     \t186.615     \t33             \t65.31     \t127       \t0.00106835    \t0.140854       \n",
      "126\t19     \t14598.9    \t174801     \t329.852\t2.35872e+06\t186.615     \t33             \t68.77     \t136       \t0.00112414    \t0.18656        \n",
      "127\t21     \t5.58773e+06\t6.7452e+07 \t329.852\t9e+08      \t186.615     \t33             \t66.78     \t137       \t0.00107694    \t0.137856       \n",
      "128\t13     \t4.81752e+06\t6.56379e+07\t329.852\t8.99999e+08\t186.615     \t33             \t72        \t145       \t0.00164795    \t0.134675       \n",
      "129\t15     \t1440.28    \t4627.88    \t329.852\t36672.3    \t186.615     \t33             \t68.935    \t152       \t0.00109982    \t0.142406       \n",
      "130\t16     \t2.00348e+10\t2.71026e+11\t329.852\t3.6864e+12 \t186.615     \t33             \t70.25     \t150       \t0.00125313    \t0.131338       \n",
      "131\t13     \t4.33219e+07\t5.90744e+08\t329.852\t8.1e+09    \t186.615     \t33             \t68.175    \t146       \t0.00120306    \t0.135383       \n",
      "132\t12     \t14143.6    \t171534     \t329.852\t2.35872e+06\t186.615     \t33             \t68.495    \t155       \t0.00157309    \t0.125709       \n",
      "133\t15     \t1793.85    \t5842.25    \t329.852\t36291.2    \t186.615     \t33             \t65.625    \t155       \t0.00100994    \t0.133766       \n",
      "134\t8      \t1006.96    \t2758.22    \t329.852\t36282.2    \t186.615     \t33             \t66.605    \t158       \t0.00103283    \t0.163256       \n",
      "135\t12     \t4409.82    \t27300.5    \t329.852\t261571     \t186.615     \t33             \t64.525    \t148       \t0.00118017    \t0.164616       \n",
      "136\t13     \t3264.25    \t24625      \t329.852\t331258     \t186.615     \t33             \t65.465    \t149       \t0.00108171    \t0.206832       \n",
      "137\t16     \t3157.73    \t19833.2    \t329.852\t261571     \t186.615     \t33             \t68.945    \t151       \t0.00310183    \t0.173666       \n",
      "138\t15     \t2063.9     \t5969.21    \t329.852\t37445.8    \t186.615     \t33             \t70.16     \t153       \t0.0010705     \t0.129865       \n",
      "139\t27     \t1469.33    \t4332.98    \t329.852\t36291.2    \t186.615     \t33             \t74.58     \t155       \t0.00109553    \t0.139767       \n",
      "140\t9      \t1679.83    \t5688.63    \t329.852\t37445.8    \t186.615     \t33             \t83.975    \t154       \t0.00109243    \t0.144303       \n",
      "141\t13     \t537687     \t7.29296e+06\t329.852\t1e+08      \t186.615     \t33             \t83.37     \t162       \t0.00105166    \t0.139945       \n",
      "142\t8      \t964.944    \t2758.83    \t329.852\t36372.2    \t186.615     \t33             \t84.96     \t171       \t0.00114489    \t0.14354        \n",
      "143\t8      \t2.43335e+09\t2.97518e+10\t329.852\t4.096e+11  \t186.615     \t33             \t88.255    \t158       \t0.00107217    \t0.148552       \n",
      "144\t5      \t2753.54    \t19119.5    \t329.852\t261571     \t186.615     \t33             \t90.275    \t163       \t0.00104952    \t0.135437       \n",
      "145\t5      \t3.28229e+07\t4.57137e+08\t329.852\t6.4e+09    \t186.615     \t33             \t84.535    \t164       \t0.00145149    \t0.135341       \n",
      "146\t15     \t14303.9    \t172909     \t329.852\t2.35871e+06\t186.615     \t33             \t88.23     \t164       \t0.0010426     \t0.120922       \n",
      "147\t7      \t4125.84    \t30247.5    \t329.852\t331267     \t186.615     \t33             \t87.935    \t177       \t0.000993729   \t0.138835       \n",
      "148\t6      \t2382.07    \t18861      \t329.852\t261571     \t186.615     \t33             \t84.055    \t174       \t0.00097084    \t0.127707       \n",
      "149\t13     \t3078.76    \t24484.1    \t329.852\t331138     \t186.615     \t33             \t91.655    \t172       \t0.0013864     \t0.13482        \n",
      "150\t12     \t3.40447e+07\t4.65525e+08\t329.852\t6.4e+09    \t186.615     \t33             \t85.68     \t173       \t0.000990868   \t0.125402       \n"
     ]
    }
   ],
   "source": [
    "# perform the Grammatical Evolution flow:\n",
    "population, logbook = algorithms.ge_eaSimpleWithElitism(population, toolbox, cxpb=P_CROSSOVER, mutpb=P_MUTATION,\n",
    "                                          ngen=MAX_GENERATIONS, elite_size=ELITE_SIZE,\n",
    "                                          bnf_grammar=BNF_GRAMMAR, codon_size=CODON_SIZE, \n",
    "                                          max_tree_depth=MAX_TREE_DEPTH, max_wraps=MAX_WRAPS,\n",
    "                                          points_train=[X_train, y_train], \n",
    "                                          points_test=[X_test, y_test], \n",
    "                                          stats=stats, halloffame=hof, verbose=True)"
   ]
  },
  {
   "cell_type": "code",
   "execution_count": 14,
   "metadata": {},
   "outputs": [
    {
     "name": "stdout",
     "output_type": "stream",
     "text": [
      "Best individual: \n",
      " x[0]+x[0]*9-9*x[0]/(x[0]+1e-08)\n",
      "\n",
      "Training Fitness:  329.85193191598586\n",
      "Depth:  7\n",
      "Length of the genome:  33\n",
      "Used portion of the genome: 0.39\n"
     ]
    }
   ],
   "source": [
    "import textwrap\n",
    "best = parse(hof.items[0].phenotype)\n",
    "print(\"Best individual: \\n\",\"\\n\".join(textwrap.wrap(best,80)))\n",
    "print(\"\\nTraining Fitness: \", hof.items[0].fitness.values[0])\n",
    "print(\"Depth: \", hof.items[0].depth)\n",
    "print(\"Length of the genome: \", len(hof.items[0].genome))\n",
    "print(f'Used portion of the genome: {hof.items[0].used_codons/len(hof.items[0].genome):.2f}')\n",
    "\n",
    "max_fitness_values, mean_fitness_values = logbook.select(\"max\", \"avg\")\n",
    "min_fitness_values, std_fitness_values = logbook.select(\"min\", \"std\")\n",
    "fitness_test = logbook.select(\"fitness_test\")\n",
    "best_ind_length = logbook.select(\"best_ind_length\")\n",
    "avg_length = logbook.select(\"avg_length\")\n",
    "max_length = logbook.select(\"max_length\")\n",
    "selection_time = logbook.select(\"selection_time\")\n",
    "generation_time = logbook.select(\"generation_time\")\n",
    "gen, invalid = logbook.select(\"gen\", \"invalid\")"
   ]
  },
  {
   "cell_type": "code",
   "execution_count": 15,
   "metadata": {},
   "outputs": [
    {
     "data": {
      "image/png": "[encoded data removed]",
      "text/plain": [
       "<Figure size 432x288 with 1 Axes>"
      ]
     },
     "metadata": {
      "needs_background": "light"
     },
     "output_type": "display_data"
    }
   ],
   "source": [
    "plt.plot(gen, min_fitness_values, color='red', label=\"Training fitness\")\n",
    "plt.plot(gen, fitness_test, color='blue', label=\"Test fitness\")\n",
    "plt.legend(fontsize=12)\n",
    "plt.xlabel('Generations', fontsize=14)\n",
    "plt.ylabel('Best Fitness', fontsize=14)\n",
    "plt.title('Best Fitness over Generations', fontsize=16)\n",
    "plt.show()"
   ]
  },
  {
   "cell_type": "code",
   "execution_count": 16,
   "metadata": {},
   "outputs": [
    {
     "data": {
      "image/png": "[encoded data removed]",
      "text/plain": [
       "<Figure size 432x288 with 1 Axes>"
      ]
     },
     "metadata": {
      "needs_background": "light"
     },
     "output_type": "display_data"
    }
   ],
   "source": [
    "plt.plot(gen, max_length, color='red', label=\"Maximum\")\n",
    "plt.plot(gen, avg_length, color='blue', label=\"Average\")\n",
    "plt.plot(gen, best_ind_length, color='green', label=\"Best individual\")\n",
    "plt.legend(fontsize=12)\n",
    "plt.xlabel('Generations', fontsize=14)\n",
    "plt.ylabel('Genome Length', fontsize=14)\n",
    "plt.title('Genome Length over Generations', fontsize=16)\n",
    "plt.show()"
   ]
  }
 ],
 "metadata": {
  "interpreter": {
   "hash": "ebeabf5d06ed91028509ad9805f066b44b9c23fee1bc267ef60668837e5ac050"
  },
  "kernelspec": {
   "display_name": "Python 3.6.9 ('project_dir': venv)",
   "language": "python",
   "name": "python3"
  },
  "language_info": {
   "codemirror_mode": {
    "name": "ipython",
    "version": 3
   },
   "file_extension": ".py",
   "mimetype": "text/x-python",
   "name": "python",
   "nbconvert_exporter": "python",
   "pygments_lexer": "ipython3",
   "version": "3.6.9"
  },
  "orig_nbformat": 4
 },
 "nbformat": 4,
 "nbformat_minor": 2
}
