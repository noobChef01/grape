{
 "cells": [
  {
   "cell_type": "markdown",
   "metadata": {},
   "source": [
    "## Import libraries"
   ]
  },
  {
   "cell_type": "code",
   "execution_count": 1,
   "metadata": {},
   "outputs": [],
   "source": [
    "import textwrap\n",
    "import grape\n",
    "import algorithms\n",
    "from EvalTree import EvalSymRegTree\n",
    "\n",
    "import json\n",
    "from os import path\n",
    "import pandas as pd\n",
    "import numpy as np\n",
    "from deap import creator, base, tools\n",
    "from sklearn import datasets\n",
    "from sklearn.model_selection import train_test_split\n",
    "import matplotlib.pyplot as plt\n",
    "from sklearn.decomposition import PCA\n",
    "\n",
    "import warnings\n",
    "warnings.filterwarnings(\"ignore\")"
   ]
  },
  {
   "cell_type": "code",
   "execution_count": 2,
   "metadata": {},
   "outputs": [],
   "source": [
    "diabetes_X, diabetes_y = datasets.load_diabetes(return_X_y=True)\n",
    "\n",
    "X_train, X_test, y_train, y_test = train_test_split(diabetes_X, diabetes_y, test_size=0.25, shuffle=True)"
   ]
  },
  {
   "cell_type": "code",
   "execution_count": 3,
   "metadata": {},
   "outputs": [
    {
     "data": {
      "text/html": [
       "<style>#sk-container-id-1 {color: black;background-color: white;}#sk-container-id-1 pre{padding: 0;}#sk-container-id-1 div.sk-toggleable {background-color: white;}#sk-container-id-1 label.sk-toggleable__label {cursor: pointer;display: block;width: 100%;margin-bottom: 0;padding: 0.3em;box-sizing: border-box;text-align: center;}#sk-container-id-1 label.sk-toggleable__label-arrow:before {content: \"▸\";float: left;margin-right: 0.25em;color: #696969;}#sk-container-id-1 label.sk-toggleable__label-arrow:hover:before {color: black;}#sk-container-id-1 div.sk-estimator:hover label.sk-toggleable__label-arrow:before {color: black;}#sk-container-id-1 div.sk-toggleable__content {max-height: 0;max-width: 0;overflow: hidden;text-align: left;background-color: #f0f8ff;}#sk-container-id-1 div.sk-toggleable__content pre {margin: 0.2em;color: black;border-radius: 0.25em;background-color: #f0f8ff;}#sk-container-id-1 input.sk-toggleable__control:checked~div.sk-toggleable__content {max-height: 200px;max-width: 100%;overflow: auto;}#sk-container-id-1 input.sk-toggleable__control:checked~label.sk-toggleable__label-arrow:before {content: \"▾\";}#sk-container-id-1 div.sk-estimator input.sk-toggleable__control:checked~label.sk-toggleable__label {background-color: #d4ebff;}#sk-container-id-1 div.sk-label input.sk-toggleable__control:checked~label.sk-toggleable__label {background-color: #d4ebff;}#sk-container-id-1 input.sk-hidden--visually {border: 0;clip: rect(1px 1px 1px 1px);clip: rect(1px, 1px, 1px, 1px);height: 1px;margin: -1px;overflow: hidden;padding: 0;position: absolute;width: 1px;}#sk-container-id-1 div.sk-estimator {font-family: monospace;background-color: #f0f8ff;border: 1px dotted black;border-radius: 0.25em;box-sizing: border-box;margin-bottom: 0.5em;}#sk-container-id-1 div.sk-estimator:hover {background-color: #d4ebff;}#sk-container-id-1 div.sk-parallel-item::after {content: \"\";width: 100%;border-bottom: 1px solid gray;flex-grow: 1;}#sk-container-id-1 div.sk-label:hover label.sk-toggleable__label {background-color: #d4ebff;}#sk-container-id-1 div.sk-serial::before {content: \"\";position: absolute;border-left: 1px solid gray;box-sizing: border-box;top: 0;bottom: 0;left: 50%;z-index: 0;}#sk-container-id-1 div.sk-serial {display: flex;flex-direction: column;align-items: center;background-color: white;padding-right: 0.2em;padding-left: 0.2em;position: relative;}#sk-container-id-1 div.sk-item {position: relative;z-index: 1;}#sk-container-id-1 div.sk-parallel {display: flex;align-items: stretch;justify-content: center;background-color: white;position: relative;}#sk-container-id-1 div.sk-item::before, #sk-container-id-1 div.sk-parallel-item::before {content: \"\";position: absolute;border-left: 1px solid gray;box-sizing: border-box;top: 0;bottom: 0;left: 50%;z-index: -1;}#sk-container-id-1 div.sk-parallel-item {display: flex;flex-direction: column;z-index: 1;position: relative;background-color: white;}#sk-container-id-1 div.sk-parallel-item:first-child::after {align-self: flex-end;width: 50%;}#sk-container-id-1 div.sk-parallel-item:last-child::after {align-self: flex-start;width: 50%;}#sk-container-id-1 div.sk-parallel-item:only-child::after {width: 0;}#sk-container-id-1 div.sk-dashed-wrapped {border: 1px dashed gray;margin: 0 0.4em 0.5em 0.4em;box-sizing: border-box;padding-bottom: 0.4em;background-color: white;}#sk-container-id-1 div.sk-label label {font-family: monospace;font-weight: bold;display: inline-block;line-height: 1.2em;}#sk-container-id-1 div.sk-label-container {text-align: center;}#sk-container-id-1 div.sk-container {/* jupyter's `normalize.less` sets `[hidden] { display: none; }` but bootstrap.min.css set `[hidden] { display: none !important; }` so we also need the `!important` here to be able to override the default hidden behavior on the sphinx rendered scikit-learn.org. See: https://github.com/scikit-learn/scikit-learn/issues/21755 */display: inline-block !important;position: relative;}#sk-container-id-1 div.sk-text-repr-fallback {display: none;}</style><div id=\"sk-container-id-1\" class=\"sk-top-container\"><div class=\"sk-text-repr-fallback\"><pre>PCA(n_components=2)</pre><b>In a Jupyter environment, please rerun this cell to show the HTML representation or trust the notebook. <br />On GitHub, the HTML representation is unable to render, please try loading this page with nbviewer.org.</b></div><div class=\"sk-container\" hidden><div class=\"sk-item\"><div class=\"sk-estimator sk-toggleable\"><input class=\"sk-toggleable__control sk-hidden--visually\" id=\"sk-estimator-id-1\" type=\"checkbox\" checked><label for=\"sk-estimator-id-1\" class=\"sk-toggleable__label sk-toggleable__label-arrow\">PCA</label><div class=\"sk-toggleable__content\"><pre>PCA(n_components=2)</pre></div></div></div></div></div>"
      ],
      "text/plain": [
       "PCA(n_components=2)"
      ]
     },
     "execution_count": 3,
     "metadata": {},
     "output_type": "execute_result"
    }
   ],
   "source": [
    "# pca = PCA(n_components=1)\n",
    "# pca.fit(X_train)\n",
    "\n",
    "pca = PCA(n_components=2)\n",
    "pca.fit(X_train)"
   ]
  },
  {
   "cell_type": "code",
   "execution_count": 4,
   "metadata": {},
   "outputs": [],
   "source": [
    "X_train_2D = pca.transform(X_train)\n",
    "X_test_2D = pca.transform(X_test)"
   ]
  },
  {
   "cell_type": "code",
   "execution_count": 5,
   "metadata": {},
   "outputs": [],
   "source": [
    "# # artificial data for testing\n",
    "# x = np.arange(0, 100)\n",
    "# y = lambda x: 6 * x + 4 \n",
    "# noise = np.random.randint(1, 5, size=x.shape)\n",
    "# y_noised = y(x) + noise\n",
    "\n",
    "# X_train, X_test, y_train, y_test = train_test_split(x, y_noised, test_size=0.1, shuffle=True) "
   ]
  },
  {
   "cell_type": "markdown",
   "metadata": {},
   "source": [
    "### Plot data"
   ]
  },
  {
   "cell_type": "code",
   "execution_count": 6,
   "metadata": {},
   "outputs": [],
   "source": [
    "# X_train_1D = X_train_1D.flatten()\n",
    "# X_test_1D = X_test_1D.flatten()"
   ]
  },
  {
   "cell_type": "code",
   "execution_count": 7,
   "metadata": {},
   "outputs": [],
   "source": [
    "# plt.scatter(X_train_1D, y_train)\n",
    "# plt.title(\"Target Function\")\n",
    "# plt.xlabel(\"x\")\n",
    "# plt.ylabel(\"y\")\n",
    "# plt.show()"
   ]
  },
  {
   "cell_type": "code",
   "execution_count": 8,
   "metadata": {},
   "outputs": [],
   "source": [
    "# plt.scatter(X_test_1D, y_test)\n",
    "# plt.title(\"Test data\")\n",
    "# plt.xlabel(\"x\")\n",
    "# plt.ylabel(\"y\")\n",
    "# plt.show()"
   ]
  },
  {
   "cell_type": "code",
   "execution_count": 9,
   "metadata": {},
   "outputs": [],
   "source": [
    "GRAMMAR_FILE = 'simpleReg.bnf'\n",
    "BNF_GRAMMAR = grape.Grammar(path.join(\"./grammars\", GRAMMAR_FILE))"
   ]
  },
  {
   "cell_type": "code",
   "execution_count": 10,
   "metadata": {},
   "outputs": [],
   "source": [
    "from sklearn import datasets, linear_model\n",
    "from sklearn.metrics import mean_squared_error, r2_score"
   ]
  },
  {
   "cell_type": "code",
   "execution_count": 11,
   "metadata": {},
   "outputs": [
    {
     "name": "stdout",
     "output_type": "stream",
     "text": [
      "Mean squared error: 3937.08\n"
     ]
    }
   ],
   "source": [
    "regr = linear_model.LinearRegression()\n",
    "\n",
    "# Train the model using the training sets\n",
    "regr.fit(X_train_2D, y_train)\n",
    "\n",
    "# Make predictions using the testing set\n",
    "diabetes_y_pred = regr.predict(X_test_2D)\n",
    "\n",
    "print(\"Mean squared error: %.2f\" % mean_squared_error(y_test, diabetes_y_pred))\n"
   ]
  },
  {
   "cell_type": "code",
   "execution_count": 12,
   "metadata": {},
   "outputs": [],
   "source": [
    "# def write_stat(value, file_name, mode):\n",
    "#     with open(file_name, mode) as write_file:\n",
    "#         write_file.write(str(value))\n",
    "#         write_file.write(\"\\n\")\n",
    "\n",
    "\n",
    "# def read_stat(file_name):\n",
    "#     with open(file_name, \"r\") as write_file:\n",
    "#         cnt = int(write_file.read())\n",
    "#     return cnt"
   ]
  },
  {
   "cell_type": "code",
   "execution_count": 13,
   "metadata": {},
   "outputs": [],
   "source": [
    "# ### cold-start\n",
    "# with open(\"statistics.txt\", \"w\") as write_file:\n",
    "#     write_file.write(str(\"\"))"
   ]
  },
  {
   "cell_type": "code",
   "execution_count": 14,
   "metadata": {},
   "outputs": [],
   "source": [
    "def replace_operators(phenotype):\n",
    "    return phenotype.replace('DIVIDE', '/').replace('MINUS', '-').replace('PLUS', '+').replace('MULTIPLY', '*')\n",
    "\n",
    "\n",
    "def fitness_eval(individual, points):\n",
    "    #points = [X, Y]\n",
    "    x = points[0]\n",
    "    y = points[1]\n",
    "\n",
    "    if individual.invalid == True:\n",
    "        return np.NaN,\n",
    "    try:\n",
    "        pred = eval(replace_operators(individual.phenotype))\n",
    "    except (FloatingPointError, ZeroDivisionError, OverflowError,\n",
    "            MemoryError, ValueError):\n",
    "        # except Exception as e:\n",
    "        #     write_stat(e, \"out-files/statistics.txt\", \"a\")\n",
    "        return np.NaN,\n",
    "    assert np.isrealobj(pred)\n",
    "\n",
    "    try:\n",
    "        # fitness = 1/np.mean(np.square(y - pred))\n",
    "        fitness = np.mean(np.square(y - pred))\n",
    "    except (FloatingPointError, ZeroDivisionError, OverflowError,\n",
    "            MemoryError, ValueError):\n",
    "        # except Exception as e:\n",
    "        #     write_stat(e, \"out-files/statistics.txt\", \"a\")\n",
    "        fitness = np.NaN\n",
    "\n",
    "    if fitness == float(\"inf\"):\n",
    "        return np.NaN,\n",
    "    return fitness,\n"
   ]
  },
  {
   "cell_type": "code",
   "execution_count": 15,
   "metadata": {},
   "outputs": [],
   "source": [
    "toolbox = base.Toolbox()\n",
    "\n",
    "# define a single objective, minimising fitness strategy:\n",
    "creator.create(\"FitnessMin\", base.Fitness, weights=(-1.0,))\n",
    "\n",
    "\n",
    "creator.create('Individual', grape.Individual, fitness=creator.FitnessMin)\n",
    "# creator.create('Individual', grape.RegIndividual, fitness=creator.FitnessMin)\n",
    "\n",
    "\n",
    "# toolbox.register(\"populationCreator\",\n",
    "                #  grape.sensible_initialisation, creator.Individual)\n",
    "# toolbox.register(\"populationCreator\",\n",
    "#                  grape.PI_Grow_reg_AG, creator.Individual)\n",
    "toolbox.register(\"populationCreator\",\n",
    "                 grape.sensible_initialisation_reg_AG, creator.Individual)\n",
    "# toolbox.register(\"populationCreator\", grape.PI_Grow, creator.Individual)\n",
    "\n",
    "toolbox.register(\"evaluate\", fitness_eval)\n",
    "\n",
    "# Tournament selection:\n",
    "toolbox.register(\"select\", tools.selTournament, tournsize=3)\n",
    "\n",
    "# Single-point crossover:\n",
    "# toolbox.register(\"mate\", grape.crossover_onepoint)\n",
    "toolbox.register(\"mate\", grape.crossover_onepoint_reg)\n",
    "\n",
    "\n",
    "# Flip-int mutation:\n",
    "# toolbox.register(\"mutate\", grape.mutation_int_flip_per_codon)\n",
    "toolbox.register(\"mutate\", grape.mutation_int_flip_per_codon_reg)\n"
   ]
  },
  {
   "cell_type": "code",
   "execution_count": 16,
   "metadata": {},
   "outputs": [],
   "source": [
    "N_RUNS = 1\n",
    "POPULATION_SIZE = 100\n",
    "MAX_GENERATIONS = 100\n",
    "P_CROSSOVER = 0.9\n",
    "P_MUTATION = 0.01\n",
    "ELITE_SIZE = round(0.01*POPULATION_SIZE)\n",
    "\n",
    "HALL_OF_FAME_SIZE = 1\n",
    "MAX_INIT_TREE_DEPTH = 9\n",
    "MIN_INIT_TREE_DEPTH = 5\n",
    "MAX_TREE_DEPTH = 17\n",
    "MAX_WRAPS = 0\n",
    "CODON_SIZE = 255\n",
    "\n",
    "maxListFitness = []\n",
    "avgListFitness = []\n",
    "minListFitness = []\n",
    "stdListFitness = []\n",
    "\n",
    "maxListSize = []\n",
    "avgListSize = []\n",
    "minListSize = []\n",
    "stdListSize = []\n",
    "bestListSize = []"
   ]
  },
  {
   "cell_type": "code",
   "execution_count": 17,
   "metadata": {},
   "outputs": [],
   "source": [
    "meta_file_path = './simpleReg.json'\n",
    "eval_tree = EvalSymRegTree(meta_file_path, bnf_grammar=BNF_GRAMMAR)"
   ]
  },
  {
   "cell_type": "code",
   "execution_count": 18,
   "metadata": {},
   "outputs": [],
   "source": [
    "# # # Validate initialized population\n",
    "\n",
    "# population = toolbox.populationCreator(pop_size=POPULATION_SIZE,\n",
    "#                                         bnf_grammar=BNF_GRAMMAR,\n",
    "#                                         min_init_depth=MIN_INIT_TREE_DEPTH,\n",
    "#                                         max_init_depth=MAX_INIT_TREE_DEPTH,\n",
    "#                                         codon_size=CODON_SIZE,\n",
    "#                                         eval_tree=eval_tree)\n",
    "# for ind in population:\n",
    "#     print(ind.phenotype)\n",
    "    # value, weight = get_sack_meta(ind.phenotype)\n",
    "    # if weight <= weight_threshold:\n",
    "    #     print(f'Individual: {ind.phenotype}, Value: {value}, Weight: {weight}')\n",
    "    # else:\n",
    "    #     print(f'Individual: {ind.phenotype}, Value: {value}, Weight: {weight} !!!!! warning')"
   ]
  },
  {
   "cell_type": "code",
   "execution_count": 19,
   "metadata": {},
   "outputs": [
    {
     "ename": "TypeError",
     "evalue": "sensible_initialisation() got an unexpected keyword argument 'eval_tree'",
     "output_type": "error",
     "traceback": [
      "\u001b[0;31m---------------------------------------------------------------------------\u001b[0m",
      "\u001b[0;31mTypeError\u001b[0m                                 Traceback (most recent call last)",
      "\u001b[1;32m/home/sajid.m/Personal/internship/grape/symbRegExp.ipynb Cell 21\u001b[0m in \u001b[0;36m<cell line: 1>\u001b[0;34m()\u001b[0m\n\u001b[1;32m      <a href='vscode-notebook-cell:/home/sajid.m/Personal/internship/grape/symbRegExp.ipynb#X26sZmlsZQ%3D%3D?line=0'>1</a>\u001b[0m \u001b[39mfor\u001b[39;00m r \u001b[39min\u001b[39;00m \u001b[39mrange\u001b[39m(\u001b[39m0\u001b[39m, N_RUNS):\n\u001b[1;32m      <a href='vscode-notebook-cell:/home/sajid.m/Personal/internship/grape/symbRegExp.ipynb#X26sZmlsZQ%3D%3D?line=1'>2</a>\u001b[0m     \u001b[39m# create initial population (generation 0):\u001b[39;00m\n\u001b[0;32m----> <a href='vscode-notebook-cell:/home/sajid.m/Personal/internship/grape/symbRegExp.ipynb#X26sZmlsZQ%3D%3D?line=2'>3</a>\u001b[0m     population \u001b[39m=\u001b[39m toolbox\u001b[39m.\u001b[39;49mpopulationCreator(pop_size\u001b[39m=\u001b[39;49mPOPULATION_SIZE,\n\u001b[1;32m      <a href='vscode-notebook-cell:/home/sajid.m/Personal/internship/grape/symbRegExp.ipynb#X26sZmlsZQ%3D%3D?line=3'>4</a>\u001b[0m                                            bnf_grammar\u001b[39m=\u001b[39;49mBNF_GRAMMAR,\n\u001b[1;32m      <a href='vscode-notebook-cell:/home/sajid.m/Personal/internship/grape/symbRegExp.ipynb#X26sZmlsZQ%3D%3D?line=4'>5</a>\u001b[0m                                            min_init_depth\u001b[39m=\u001b[39;49mMIN_INIT_TREE_DEPTH,\n\u001b[1;32m      <a href='vscode-notebook-cell:/home/sajid.m/Personal/internship/grape/symbRegExp.ipynb#X26sZmlsZQ%3D%3D?line=5'>6</a>\u001b[0m                                            max_init_depth\u001b[39m=\u001b[39;49mMAX_INIT_TREE_DEPTH,\n\u001b[1;32m      <a href='vscode-notebook-cell:/home/sajid.m/Personal/internship/grape/symbRegExp.ipynb#X26sZmlsZQ%3D%3D?line=6'>7</a>\u001b[0m                                            codon_size\u001b[39m=\u001b[39;49mCODON_SIZE,\n\u001b[1;32m      <a href='vscode-notebook-cell:/home/sajid.m/Personal/internship/grape/symbRegExp.ipynb#X26sZmlsZQ%3D%3D?line=7'>8</a>\u001b[0m                                            eval_tree\u001b[39m=\u001b[39;49meval_tree)\n\u001b[1;32m     <a href='vscode-notebook-cell:/home/sajid.m/Personal/internship/grape/symbRegExp.ipynb#X26sZmlsZQ%3D%3D?line=9'>10</a>\u001b[0m     \u001b[39m# define the hall-of-fame object:\u001b[39;00m\n\u001b[1;32m     <a href='vscode-notebook-cell:/home/sajid.m/Personal/internship/grape/symbRegExp.ipynb#X26sZmlsZQ%3D%3D?line=10'>11</a>\u001b[0m     hof \u001b[39m=\u001b[39m tools\u001b[39m.\u001b[39mHallOfFame(HALL_OF_FAME_SIZE)\n",
      "\u001b[0;31mTypeError\u001b[0m: sensible_initialisation() got an unexpected keyword argument 'eval_tree'"
     ]
    }
   ],
   "source": [
    "for r in range(0, N_RUNS):\n",
    "    # create initial population (generation 0):\n",
    "    population = toolbox.populationCreator(pop_size=POPULATION_SIZE,\n",
    "                                           bnf_grammar=BNF_GRAMMAR,\n",
    "                                           min_init_depth=MIN_INIT_TREE_DEPTH,\n",
    "                                           max_init_depth=MAX_INIT_TREE_DEPTH,\n",
    "                                           codon_size=CODON_SIZE,\n",
    "                                           eval_tree=eval_tree)\n",
    "\n",
    "    # define the hall-of-fame object:\n",
    "    hof = tools.HallOfFame(HALL_OF_FAME_SIZE)\n",
    "    # prepare the statistics object:\n",
    "    # stats = tools.Statistics(key=lambda ind: ind.fitness.values if math.isnan(ind.fitness.values[0]) else None)#ind.fitness.values != np.inf else None)\n",
    "    # stats = tools.Statistics(key=lambda ind: ind.fitness.values[0] if not math.isnan(ind.fitness.values[0]) else np.NaN)#ind.fitness.values != np.inf else None)\n",
    "    # if not ind.invalid else (np.NaN,))#ind.fitness.values != np.inf else None)\n",
    "    stats = tools.Statistics(key=lambda ind: ind.fitness.values)\n",
    "    stats.register(\"avg\", np.nanmean)\n",
    "    stats.register(\"std\", np.nanstd)\n",
    "    stats.register(\"min\", np.nanmin)\n",
    "    stats.register(\"max\", np.nanmax)\n",
    "\n",
    "    # Which run are we on?\n",
    "    print(\"\\n\\nCurrently on run\", r, \"of\", N_RUNS)\n",
    "    # perform the Grammatical Evolution flow:\n",
    "    population, logbook = algorithms.ge_eaSimpleWithElitism(population, toolbox, cxpb=P_CROSSOVER, mutpb=P_MUTATION,\n",
    "                                                            ngen=MAX_GENERATIONS, elite_size=ELITE_SIZE,\n",
    "                                                            bnf_grammar=BNF_GRAMMAR, codon_size=CODON_SIZE,\n",
    "                                                            max_tree_depth=MAX_TREE_DEPTH,\n",
    "                                                            # points_train=[\n",
    "                                                            #     X_train, y_train],\n",
    "                                                            points_train=[X_train_2D, y_train],\n",
    "                                                            # points_test=[\n",
    "                                                            #     X_test, y_test],\n",
    "                                                            points_test=[\n",
    "                                                                X_test_2D, y_test],\n",
    "                                                            stats=stats, halloffame=hof, verbose=True, eval_tree=eval_tree, type=\"regression\")\n",
    "\n",
    "    max_fitness_values, mean_fitness_values = logbook.select(\"max\", \"avg\")\n",
    "    min_fitness_values, std_fitness_values = logbook.select(\"min\", \"std\")\n",
    "\n",
    "    # fitness_test = logbook.select(\"fitness_test\")\n",
    "    best_ind_length = logbook.select(\"best_ind_length\")\n",
    "    avg_length = logbook.select(\"avg_length\")\n",
    "    max_length = logbook.select(\"max_length\")\n",
    "    # selection_time = logbook.select(\"selection_time\")\n",
    "    # generation_time = logbook.select(\"generation_time\")\n",
    "    # gen, invalid = logbook.select(\"gen\", \"invalid\")\n",
    "\n",
    "    # Save statistics for this run:\n",
    "    avgListFitness.append(mean_fitness_values)\n",
    "    stdListFitness.append(std_fitness_values)\n",
    "    minListFitness.append(min_fitness_values)\n",
    "    maxListFitness.append(max_fitness_values)\n",
    "\n",
    "    avgListSize.append(avg_length)\n",
    "    bestListSize.append(best_ind_length)\n",
    "    # stdListSize.append(stdSizeValues)\n",
    "    # minListSize.append(minSizeValues)\n",
    "    maxListSize.append(max_length)\n",
    "\n",
    "    best = hof.items[0].phenotype  # parser to change the individual\n",
    "    print(\"Best individual: \\n\", \"\\n\".join(textwrap.wrap(best, 80)))\n",
    "    print(\"\\nTraining Fitness: \", hof.items[0].fitness.values[0])\n",
    "    print(\"Depth: \", hof.items[0].depth)\n",
    "    print(\"Length of the genome: \", len(hof.items[0].genome))\n",
    "    print(\n",
    "        f'Used portion of the genome: {hof.items[0].used_codons/len(hof.items[0].genome):.2f}')\n"
   ]
  },
  {
   "cell_type": "code",
   "execution_count": 21,
   "metadata": {},
   "outputs": [
    {
     "data": {
      "image/png": "[encoded data removed]",
      "text/plain": [
       "<Figure size 432x288 with 1 Axes>"
      ]
     },
     "metadata": {
      "needs_background": "light"
     },
     "output_type": "display_data"
    }
   ],
   "source": [
    "#plot statistics:\n",
    "x = np.arange(0, MAX_GENERATIONS+1)\n",
    "avgArray = np.array(avgListFitness)\n",
    "stdArray = np.array(stdListFitness)\n",
    "minArray = np.array(minListFitness)\n",
    "maxArray = np.array(maxListFitness)\n",
    "\n",
    "plt.xlabel('Generation')\n",
    "plt.ylabel('Fitness')\n",
    "plt.title('Fitness Symbollic Regression')\n",
    "# plt.errorbar(x, avgArray.mean(0), yerr=stdArray.mean(0),label=\"Average\",color=\"Red\")\n",
    "# plt.errorbar(x, minArray.mean(0), yerr=minArray.std(0),label=\"Best\", color=\"Green\")\n",
    "plt.plot(x, avgArray.mean(0),label=\"Average\",color=\"Blue\")\n",
    "plt.plot(x, minArray.mean(0),label=\"Best\", color=\"Green\")\n",
    "plt.plot(x, maxArray.mean(0),label=\"Worst\", color=\"Red\")\n",
    "plt.yscale('log')\n",
    "# plt.plot(x, maxArray.mean(0),label=\"Worst\", color=\"Blue\")\n",
    "# plt.errorbar(x, maxArray.mean(0), yerr=maxArray.std(0),label=\"Best\", color=\"Blue\")\n",
    "plt.legend()\n",
    "# plt.ylim([0, 100])\n",
    "plt.show()"
   ]
  },
  {
   "cell_type": "code",
   "execution_count": 31,
   "metadata": {},
   "outputs": [
    {
     "name": "stdout",
     "output_type": "stream",
     "text": [
      "\n",
      "\n",
      "Currently on run 0 of 1\n",
      "gen\tinvalid\tavg    \tstd    \tmin    \tmax    \tfitness_test\tbest_ind_length\tavg_length\tbest_ind_nodes\tavg_nodes\tbest_ind_depth\tavg_depth\tavg_used_codons\tbest_ind_used_codons\tstructural_diversity\tfitness_diversity\tselection_time\tgeneration_time\n",
      "0  \t0      \t22265.1\t8986.09\t9584.05\t42317.3\tnan         \t7              \t9.68421   \t4             \t4.52632  \t3             \t4.05263  \t6.68421        \t5                   \t0.85                \t0.060241         \t0             \t0.0074501      \n",
      "1  \t27     \t19931.9\t10035.8\t8612.41\t42321.1\tnan         \t24             \t32.3333   \t4             \t4.33333  \t3             \t3.66667  \t6.06667        \t5                   \t0.56                \t0.0391566        \t0.000345469   \t0.019362       \n",
      "2  \t24     \t17608.9\t9319.92\t8612.41\t39327  \tnan         \t24             \t47.3684   \t4             \t4.26316  \t3             \t3.42105  \t5.73684        \t5                   \t0.55                \t0.0451807        \t0.000290632   \t0.0153968      \n",
      "3  \t22     \t15751.1\t8036.81\t8612.41\t28965.5\tnan         \t24             \t36.15     \t4             \t4        \t3             \t3.4      \t5.4            \t5                   \t0.63                \t0.0572289        \t0.000299454   \t0.015229       \n",
      "4  \t19     \t15986.1\t7646.8 \t8611.31\t29132.5\tnan         \t7              \t29.6364   \t4             \t4        \t3             \t3.31818  \t5.31818        \t5                   \t0.66                \t0.0662651        \t0.000293493   \t0.0149746      \n",
      "5  \t21     \t14607.5\t7419.19\t8542.72\t29340.2\tnan         \t35             \t29.5882   \t4             \t4        \t3             \t3.29412  \t5.29412        \t5                   \t0.64                \t0.0481928        \t0.00036025    \t0.0145082      \n",
      "6  \t19     \t13479.6\t6322.97\t8542.72\t29101.8\tnan         \t35             \t36.4444   \t4             \t4        \t3             \t3.22222  \t5.22222        \t5                   \t0.62                \t0.0512048        \t0.000281096   \t0.0146046      \n",
      "7  \t16     \t14760.7\t7393.29\t8542.72\t29270  \tnan         \t35             \t32.8095   \t4             \t4        \t3             \t3.47619  \t5.47619        \t5                   \t0.66                \t0.060241         \t0.000309706   \t0.0131521      \n",
      "8  \t14     \t14552.5\t8059.07\t8542.72\t28993.9\tnan         \t35             \t43        \t4             \t4.3125   \t3             \t3.875    \t6.3125         \t5                   \t0.67                \t0.0451807        \t0.000297546   \t0.0153151      \n",
      "9  \t22     \t14841.2\t6932.7 \t8542.72\t28802.9\tnan         \t35             \t64.5      \t4             \t4        \t3             \t3.125    \t5.125          \t5                   \t0.62                \t0.0481928        \t0.000277281   \t0.014236       \n",
      "10 \t19     \t15674.9\t7016.32\t8542.72\t28802.9\tnan         \t35             \t55.9333   \t4             \t4        \t3             \t3.26667  \t5.26667        \t5                   \t0.69                \t0.0421687        \t0.000272989   \t0.0149791      \n",
      "11 \t20     \t16561.4\t8537.5 \t8542.72\t29312.5\tnan         \t35             \t37.9444   \t4             \t4.27778  \t3             \t3.38889  \t5.72222        \t5                   \t0.72                \t0.0481928        \t0.000277281   \t0.0136995      \n",
      "12 \t23     \t16778.2\t8623.45\t8542.72\t29312.5\tnan         \t35             \t27.3      \t4             \t4.25     \t3             \t3.35     \t5.65           \t5                   \t0.67                \t0.0512048        \t0.000291824   \t0.0141611      \n",
      "13 \t19     \t13211.2\t5609.13\t8542.72\t28730.4\tnan         \t35             \t24.1579   \t4             \t4        \t3             \t3.05263  \t5.05263        \t5                   \t0.76                \t0.0572289        \t0.000278711   \t0.0159378      \n",
      "14 \t25     \t16119.4\t7588.64\t8542.72\t28839.3\tnan         \t35             \t24.6667   \t4             \t4        \t3             \t3.25     \t5.25           \t5                   \t0.66                \t0.0572289        \t0.000395775   \t0.0155892      \n",
      "15 \t25     \t15547.9\t8178.68\t8542.72\t29145  \tnan         \t35             \t33.2381   \t4             \t4        \t3             \t3.19048  \t5.19048        \t5                   \t0.67                \t0.0572289        \t0.00048542    \t0.0239737      \n",
      "16 \t17     \t16608  \t8353.26\t8542.72\t29341  \tnan         \t35             \t35.9189   \t4             \t4.13514  \t3             \t3.43243  \t5.59459        \t5                   \t0.75                \t0.10241          \t0.000280142   \t0.0165536      \n",
      "17 \t10     \t16095.7\t8035.04\t8542.72\t28828.3\tnan         \t35             \t38.5714   \t4             \t4        \t3             \t3.33333  \t5.33333        \t5                   \t0.8                 \t0.10241          \t0.000283241   \t0.0150118      \n",
      "18 \t5      \t15766.9\t8158.03\t8451.43\t29220.7\tnan         \t29             \t44.3111   \t4             \t4        \t3             \t3.35556  \t5.35556        \t5                   \t0.75                \t0.111446         \t0.000286579   \t0.0161772      \n",
      "19 \t14     \t13663.2\t6848.26\t8451.43\t29194.2\tnan         \t29             \t48.766    \t4             \t4.21277  \t3             \t3.31915  \t5.59574        \t5                   \t0.71                \t0.120482         \t0.000290394   \t0.0145741      \n",
      "20 \t12     \t11918.4\t5409.04\t8450.37\t28730.4\tnan         \t30             \t45.0238   \t4             \t4        \t3             \t3.02381  \t5.02381        \t5                   \t0.71                \t0.114458         \t0.000282049   \t0.013607       \n",
      "21 \t11     \t11496.8\t5122.67\t8428.04\t28778.6\tnan         \t18             \t43.1282   \t4             \t4        \t3             \t3.05128  \t5.05128        \t5                   \t0.71                \t0.111446         \t0.000282764   \t0.0132811      \n",
      "22 \t13     \t13223.9\t6963.66\t8428.04\t29325.6\tnan         \t18             \t41.225    \t4             \t4.125    \t3             \t3.2      \t5.35           \t5                   \t0.72                \t0.114458         \t0.00029707    \t0.0123646      \n",
      "23 \t10     \t11995.5\t6230.8 \t8428.04\t28851.3\tnan         \t18             \t41.5778   \t4             \t4        \t3             \t3.06667  \t5.06667        \t5                   \t0.74                \t0.13253          \t0.000333309   \t0.0236971      \n",
      "24 \t6      \t12087.4\t5562.86\t8428.04\t28778.6\tnan         \t18             \t38.2917   \t4             \t4        \t3             \t3.04167  \t5.04167        \t5                   \t0.74                \t0.129518         \t0.000288963   \t0.0101068      \n",
      "25 \t5      \t11178.5\t4590.33\t8428.04\t27155.6\tnan         \t18             \t39.8704   \t4             \t4        \t3             \t3        \t5              \t5                   \t0.79                \t0.153614         \t0.000292301   \t0.0114367      \n",
      "26 \t2      \t12569.3\t6749.09\t8428.04\t29166.9\tnan         \t18             \t38        \t4             \t4        \t3             \t3.06818  \t5.06818        \t5                   \t0.82                \t0.123494         \t0.000596762   \t0.0112598      \n",
      "27 \t7      \t12886.4\t6418.99\t8428.04\t29043.6\tnan         \t18             \t35.9318   \t4             \t4        \t3             \t3.15909  \t5.15909        \t5                   \t0.75                \t0.11747          \t0.000280857   \t0.0117342      \n",
      "28 \t10     \t10677.5\t4838.76\t8428.04\t29228.1\tnan         \t18             \t33.5625   \t4             \t4        \t3             \t3.125    \t5.125          \t5                   \t0.76                \t0.138554         \t0.000347614   \t0.0116158      \n",
      "29 \t4      \t11115.9\t5575.71\t8428.04\t28860.7\tnan         \t18             \t35.4464   \t4             \t4        \t3             \t3.07143  \t5.07143        \t5                   \t0.83                \t0.153614         \t0.000378609   \t0.0117095      \n",
      "30 \t9      \t10217.4\t4612.4 \t8428.04\t29149.4\tnan         \t18             \t33.3462   \t4             \t4        \t3             \t3.11538  \t5.11538        \t5                   \t0.8                 \t0.13253          \t0.000299454   \t0.0136168      \n",
      "31 \t8      \t9508.25\t3438.74\t8428.04\t26390.5\tnan         \t18             \t29.9038   \t4             \t4        \t3             \t3        \t5              \t5                   \t0.66                \t0.11747          \t0.000288248   \t0.0129981      \n",
      "32 \t4      \t10251.1\t4615.44\t8428.04\t26402  \tnan         \t18             \t27.4894   \t4             \t4        \t3             \t3        \t5              \t5                   \t0.7                 \t0.105422         \t0.000297785   \t0.0115771      \n",
      "33 \t3      \t9549.1 \t3241.65\t8428.04\t26407.8\tnan         \t18             \t28.2857   \t4             \t4        \t3             \t3        \t5              \t5                   \t0.65                \t0.10241          \t0.000295877   \t0.00916004     \n",
      "34 \t5      \t9253.15\t3072.32\t8428.04\t25183.4\tnan         \t18             \t31.1463   \t4             \t4        \t3             \t3        \t5              \t5                   \t0.57                \t0.0783133        \t0.00028801    \t0.0102422      \n",
      "35 \t3      \t10823.4\t5539.17\t8428.04\t28730.4\tnan         \t18             \t24.8837   \t4             \t4        \t3             \t3.02326  \t5.02326        \t5                   \t0.61                \t0.0933735        \t0.000283241   \t0.0102451      \n",
      "36 \t7      \t9506.5 \t3239.51\t8428.04\t23583.5\tnan         \t18             \t29.6207   \t4             \t4        \t3             \t3        \t5              \t5                   \t0.61                \t0.0692771        \t0.000547171   \t0.00987387     \n",
      "37 \t8      \t9957.27\t4554.76\t8428.04\t28654.4\tnan         \t18             \t27.6071   \t4             \t4        \t3             \t3        \t5              \t5                   \t0.63                \t0.0692771        \t0.000284672   \t0.0106425      \n",
      "38 \t5      \t9759.49\t3794.16\t8428.04\t26836.8\tnan         \t18             \t30.4211   \t4             \t4        \t3             \t3        \t5              \t5                   \t0.68                \t0.0843373        \t0.000284672   \t0.0106983      \n",
      "39 \t5      \t10279  \t4421.94\t8428.04\t26828.1\tnan         \t18             \t28.9111   \t4             \t4        \t3             \t3        \t5              \t5                   \t0.66                \t0.105422         \t0.00032568    \t0.00912523     \n",
      "40 \t2      \t10874.3\t5088.11\t8428.04\t28807.8\tnan         \t18             \t23.4889   \t4             \t4        \t3             \t3.06667  \t5.06667        \t5                   \t0.66                \t0.105422         \t0.000285864   \t0.00989366     \n",
      "41 \t2      \t12409.3\t6517.72\t8428.04\t28808.8\tnan         \t18             \t28.3469   \t4             \t4        \t3             \t3.08163  \t5.08163        \t5                   \t0.62                \t0.11747          \t0.000287771   \t0.00883412     \n",
      "42 \t4      \t12021.7\t6299.14\t8428.04\t28783.4\tnan         \t18             \t23.9535   \t4             \t4        \t3             \t3.04651  \t5.04651        \t5                   \t0.55                \t0.0993976        \t0.00028038    \t0.00997591     \n",
      "43 \t4      \t11427.1\t5315.84\t8428.04\t27764.5\tnan         \t18             \t26.0526   \t4             \t4        \t3             \t3        \t5              \t5                   \t0.59                \t0.0933735        \t0.000283957   \t0.0096786      \n",
      "44 \t4      \t10924.8\t4555.65\t8428.04\t27764.5\tnan         \t18             \t22.4595   \t4             \t4        \t3             \t3        \t5              \t5                   \t0.58                \t0.0933735        \t0.000329256   \t0.00916553     \n",
      "45 \t4      \t10478.3\t3855.21\t8428.04\t23607.7\tnan         \t18             \t23.7222   \t4             \t4        \t3             \t3        \t5              \t5                   \t0.61                \t0.0963855        \t0.000283003   \t0.0103745      \n",
      "46 \t7      \t12261.4\t6127.54\t8428.04\t28545.2\tnan         \t18             \t22.641    \t4             \t4        \t3             \t3        \t5              \t5                   \t0.66                \t0.0963855        \t0.000284433   \t0.00942349     \n",
      "47 \t4      \t12041.3\t6071.04\t8428.04\t28839.3\tnan         \t18             \t25.8627   \t4             \t4        \t3             \t3.05882  \t5.05882        \t5                   \t0.68                \t0.123494         \t0.000314236   \t0.010339       \n",
      "48 \t9      \t10006.3\t3474.57\t8428.04\t23798.6\tnan         \t18             \t24.2549   \t4             \t4        \t3             \t3        \t5              \t5                   \t0.63                \t0.11747          \t0.000297308   \t0.0112154      \n",
      "49 \t6      \t9928.58\t3464.28\t8428.04\t26163.4\tnan         \t18             \t25.2157   \t4             \t4        \t3             \t3        \t5              \t5                   \t0.65                \t0.11747          \t0.000347853   \t0.00982571     \n",
      "50 \t4      \t10405.3\t4377.44\t8428.04\t29293.6\tnan         \t18             \t22.9273   \t4             \t4        \t3             \t3.07273  \t5.07273        \t5                   \t0.61                \t0.11747          \t0.000291586   \t0.0103705      \n",
      "51 \t4      \t9703.12\t3328.58\t8428.04\t29230.1\tnan         \t18             \t21.6429   \t4             \t4        \t3             \t3.03571  \t5.03571        \t5                   \t0.56                \t0.105422         \t0.000291824   \t0.00929499     \n",
      "52 \t5      \t9301.32\t2247.52\t8428.04\t19611.3\tnan         \t18             \t22.02     \t4             \t4        \t3             \t3        \t5              \t5                   \t0.52                \t0.0843373        \t0.000300884   \t0.00891471     \n",
      "53 \t4      \t10660  \t5179.02\t8428.04\t28852.5\tnan         \t18             \t21.5818   \t4             \t4        \t3             \t3.03636  \t5.03636        \t5                   \t0.61                \t0.10241          \t0.00031352    \t0.0104923      \n",
      "54 \t5      \t10017.1\t4681.64\t8428.04\t29340.3\tnan         \t18             \t22.0508   \t4             \t4        \t3             \t3.05085  \t5.05085        \t5                   \t0.57                \t0.0963855        \t0.000286818   \t0.00895548     \n",
      "55 \t5      \t8930.23\t2262.62\t8428.04\t25298.2\tnan         \t18             \t23.2258   \t4             \t4        \t3             \t3        \t5              \t5                   \t0.42                \t0.0692771        \t0.000454187   \t0.00977659     \n",
      "56 \t4      \t8763.33\t1241.11\t8428.04\t15050.1\tnan         \t18             \t23.0952   \t4             \t4        \t3             \t3        \t5              \t5                   \t0.36                \t0.060241         \t0.000286341   \t0.00942326     \n",
      "57 \t9      \t9105.34\t2086.36\t8428.04\t19314.7\tnan         \t18             \t22        \t4             \t4        \t3             \t3        \t5              \t5                   \t0.38                \t0.0783133        \t0.000294685   \t0.00851297     \n",
      "58 \t8      \t9304.53\t3760.61\t8428.04\t27627.8\tnan         \t18             \t23.746    \t4             \t4        \t3             \t3        \t5              \t5                   \t0.32                \t0.0542169        \t0.000286579   \t0.00953007     \n",
      "59 \t8      \t9312.11\t3765.39\t8428.04\t29186.4\tnan         \t18             \t22.2333   \t4             \t4        \t3             \t3.03333  \t5.03333        \t5                   \t0.35                \t0.060241         \t0.000329256   \t0.00841093     \n",
      "60 \t7      \t10208.8\t5004.92\t8428.04\t29214.1\tnan         \t18             \t22.5231   \t4             \t4        \t3             \t3.04615  \t5.04615        \t5                   \t0.38                \t0.0662651        \t0.000287056   \t0.00951838     \n",
      "61 \t4      \t9670.76\t4039.09\t8428.04\t28730.4\tnan         \t18             \t25.8333   \t4             \t4        \t3             \t3.0303   \t5.0303         \t5                   \t0.38                \t0.0662651        \t0.000282288   \t0.00888395     \n",
      "62 \t10     \t8736.33\t976.801\t8428.04\t14272.2\tnan         \t18             \t25.9231   \t4             \t4        \t3             \t3        \t5              \t5                   \t0.34                \t0.060241         \t0.000322819   \t0.00857759     \n",
      "63 \t6      \t9242.23\t2998.26\t8428.04\t26077.5\tnan         \t18             \t28.2239   \t4             \t4        \t3             \t3        \t5              \t5                   \t0.33                \t0.0662651        \t0.000283718   \t0.00878286     \n",
      "64 \t10     \t9186.35\t2881.8 \t8428.04\t24810.2\tnan         \t18             \t27.7656   \t4             \t4        \t3             \t3        \t5              \t5                   \t0.3                 \t0.0512048        \t0.000314713   \t0.00831342     \n",
      "65 \t4      \t8850.19\t1987.75\t8428.04\t23316.4\tnan         \t18             \t24.1972   \t4             \t4        \t3             \t3        \t5              \t5                   \t0.34                \t0.063253         \t0.000294447   \t0.00915003     \n",
      "66 \t2      \t8895.81\t2006.02\t8428.04\t23316.4\tnan         \t18             \t24.125    \t4             \t4        \t3             \t3        \t5              \t5                   \t0.32                \t0.060241         \t0.000355005   \t0.00857949     \n",
      "67 \t2      \t8642.12\t1061.09\t8428.04\t15863.5\tnan         \t18             \t25.8254   \t4             \t4        \t3             \t3        \t5              \t5                   \t0.22                \t0.0331325        \t0.000283718   \t0.00929403     \n",
      "68 \t2      \t8603.97\t947.577\t8428.04\t15863.5\tnan         \t18             \t27.2381   \t4             \t4        \t3             \t3        \t5              \t5                   \t0.21                \t0.0271084        \t0.000285149   \t0.00878429     \n",
      "69 \t4      \t8442.81\t103.132\t8428.04\t9219.77\tnan         \t18             \t27.0862   \t4             \t4        \t3             \t3        \t5              \t5                   \t0.2                 \t0.0210843        \t0.00032258    \t0.0103087      \n",
      "70 \t2      \t8850.78\t2104.17\t8428.04\t23316.4\tnan         \t18             \t27.386    \t4             \t4        \t3             \t3        \t5              \t5                   \t0.19                \t0.0240964        \t0.000283241   \t0.00955367     \n",
      "71 \t2      \t8700.09\t1567.47\t8428.04\t20755.4\tnan         \t18             \t25.4219   \t4             \t4        \t3             \t3        \t5              \t5                   \t0.22                \t0.0271084        \t0.000334501   \t0.00921369     \n",
      "72 \t3      \t8766.04\t1785.12\t8428.04\t20755.4\tnan         \t18             \t26.6462   \t4             \t4        \t3             \t3        \t5              \t5                   \t0.2                 \t0.0271084        \t0.00028348    \t0.00970912     \n",
      "73 \t4      \t8633.41\t1477.31\t8428.04\t20755.4\tnan         \t18             \t26.2754   \t4             \t4        \t3             \t3        \t5              \t5                   \t0.22                \t0.0331325        \t0.00028348    \t0.00846171     \n",
      "74 \t6      \t8431.75\t18.5753\t8428.04\t8535.15\tnan         \t18             \t26.5      \t4             \t4        \t3             \t3        \t5              \t5                   \t0.2                 \t0.0180723        \t0.00032568    \t0.00909495     \n",
      "75 \t4      \t8464.52\t151.835\t8428.04\t9463.98\tnan         \t18             \t27.5303   \t4             \t4        \t3             \t3        \t5              \t5                   \t0.19                \t0.0240964        \t0.000279665   \t0.00879502     \n",
      "76 \t4      \t8483.53\t227.464\t8428.04\t9589.09\tnan         \t18             \t25.1887   \t4             \t4        \t3             \t3        \t5              \t5                   \t0.18                \t0.0210843        \t0.000352859   \t0.00854611     \n",
      "77 \t6      \t8829.43\t2851.55\t8428.04\t29193.3\tnan         \t18             \t24.6346   \t4             \t4        \t3             \t3.01923  \t5.01923        \t5                   \t0.1                 \t0.0120482        \t0.000293255   \t0.00812364     \n",
      "78 \t7      \t9151.63\t2681   \t8428.04\t20755.4\tnan         \t18             \t24.7073   \t4             \t4        \t3             \t3        \t5              \t5                   \t0.16                \t0.0240964        \t0.00030899    \t0.00769973     \n",
      "79 \t6      \t8799.82\t1909.7 \t8428.04\t20755.4\tnan         \t18             \t25.1163   \t4             \t4        \t3             \t3        \t5              \t5                   \t0.18                \t0.0271084        \t0.000282288   \t0.00798106     \n",
      "80 \t7      \t8764.89\t1877.16\t8428.04\t20755.4\tnan         \t18             \t20.6905   \t4             \t4        \t3             \t3        \t5              \t5                   \t0.21                \t0.0361446        \t0.000309944   \t0.00767303     \n",
      "81 \t7      \t9423.95\t4158.79\t8428.04\t29193.3\tnan         \t18             \t18.6667   \t4             \t4        \t3             \t3.04167  \t5.04167        \t5                   \t0.18                \t0.0391566        \t0.000283957   \t0.00789762     \n",
      "82 \t5      \t9178.13\t3308.62\t8428.04\t28730.4\tnan         \t18             \t20.9423   \t4             \t4        \t3             \t3.01923  \t5.01923        \t5                   \t0.17                \t0.0331325        \t0.000313759   \t0.00778937     \n",
      "83 \t5      \t8828.62\t1830.38\t8428.04\t20755.4\tnan         \t18             \t19.6034   \t4             \t4        \t3             \t3        \t5              \t5                   \t0.16                \t0.0301205        \t0.000281811   \t0.00828409     \n",
      "84 \t1      \t8588.95\t1154.67\t8428.04\t17073.7\tnan         \t18             \t21.3455   \t4             \t4        \t3             \t3        \t5              \t5                   \t0.17                \t0.0331325        \t0.000293255   \t0.00788283     \n",
      "85 \t1      \t8889.21\t1884.49\t8428.04\t17073.7\tnan         \t18             \t22.0179   \t4             \t4        \t3             \t3        \t5              \t5                   \t0.16                \t0.0271084        \t0.000280857   \t0.00851274     \n",
      "86 \t2      \t8883.08\t1754.29\t8428.04\t17073.7\tnan         \t18             \t21.26     \t4             \t4        \t3             \t3        \t5              \t5                   \t0.2                 \t0.0301205        \t0.000289202   \t0.00768733     \n",
      "87 \t0      \t8487.2 \t352.732\t8428.04\t10950.1\tnan         \t18             \t22.5      \t4             \t4        \t3             \t3        \t5              \t5                   \t0.2                 \t0.0361446        \t0.000282526   \t0.00878787     \n",
      "88 \t0      \t8758.47\t2170.3 \t8428.04\t23316.4\tnan         \t18             \t19.6304   \t4             \t4        \t3             \t3        \t5              \t5                   \t0.19                \t0.0271084        \t0.000308037   \t0.00768757     \n",
      "89 \t1      \t8924.77\t2478.57\t8428.04\t23316.4\tnan         \t18             \t17.5556   \t4             \t4        \t3             \t3        \t5              \t5                   \t0.19                \t0.0240964        \t0.000284433   \t0.00818658     \n",
      "90 \t0      \t9081.24\t2533.07\t8428.04\t23316.4\tnan         \t18             \t20.3056   \t4             \t4        \t3             \t3        \t5              \t5                   \t0.17                \t0.0180723        \t0.000283718   \t0.00754213     \n",
      "91 \t1      \t9358.13\t2966.21\t8428.04\t23316.4\tnan         \t18             \t20.6452   \t4             \t4        \t3             \t3        \t5              \t5                   \t0.23                \t0.0301205        \t0.000280142   \t0.00835323     \n",
      "92 \t2      \t8993.98\t2809.34\t8428.04\t23316.4\tnan         \t18             \t26.5185   \t4             \t4        \t3             \t3        \t5              \t5                   \t0.29                \t0.0301205        \t0.000284195   \t0.0079906      \n",
      "93 \t0      \t9025.66\t2917.09\t8428.04\t23316.4\tnan         \t18             \t23.32     \t4             \t4        \t3             \t3        \t5              \t5                   \t0.23                \t0.0210843        \t0.000284672   \t0.00917268     \n",
      "94 \t3      \t9987.77\t4135.31\t8428.04\t23316.4\tnan         \t18             \t27.72     \t4             \t4        \t3             \t3        \t5              \t5                   \t0.24                \t0.0210843        \t0.000283241   \t0.00817657     \n",
      "95 \t4      \t9287.54\t3851.94\t8428.04\t28730.4\tnan         \t18             \t20.3704   \t4             \t4        \t3             \t3.03704  \t5.03704        \t5                   \t0.2                 \t0.0150602        \t0.000428438   \t0.00926328     \n",
      "96 \t4      \t9393.44\t3707.24\t8428.04\t28730.4\tnan         \t18             \t22.0968   \t4             \t4        \t3             \t3.03226  \t5.03226        \t5                   \t0.28                \t0.0331325        \t0.000319719   \t0.00897312     \n",
      "97 \t3      \t8449.07\t61.4925\t8428.04\t8666.31\tnan         \t18             \t24.16     \t4             \t4        \t3             \t3        \t5              \t5                   \t0.26                \t0.0210843        \t0.000404358   \t0.00831223     \n",
      "98 \t5      \t10527.4\t5545.41\t8428.04\t28802.9\tnan         \t18             \t23.1111   \t4             \t4        \t3             \t3.11111  \t5.11111        \t5                   \t0.31                \t0.0331325        \t0.000278711   \t0.00879192     \n",
      "99 \t9      \t8502.25\t272.644\t8428.04\t9589.09\tnan         \t18             \t22.9412   \t4             \t4        \t3             \t3        \t5              \t5                   \t0.29                \t0.0150602        \t0.000305891   \t0.00763679     \n",
      "100\t9      \t9605.45\t4402.33\t8428.04\t26077.5\t9307.2      \t18             \t20.5333   \t4             \t4        \t3             \t3        \t5              \t5                   \t0.28                \t0.0150602        \t0.000279665   \t0.00830221     \n",
      "Best individual: \n",
      " 99.99\n",
      "\n",
      "Training Fitness:  8428.042819033231\n",
      "Depth:  3\n",
      "Length of the genome:  18\n",
      "Used portion of the genome: 0.28\n"
     ]
    }
   ],
   "source": [
    "for r in range(0, N_RUNS):\n",
    "    # create initial population (generation 0):\n",
    "    population = toolbox.populationCreator(pop_size=POPULATION_SIZE,\n",
    "                                           bnf_grammar=BNF_GRAMMAR,\n",
    "                                           min_init_depth=MIN_INIT_TREE_DEPTH,\n",
    "                                           max_init_depth=MAX_INIT_TREE_DEPTH,\n",
    "                                           codon_size=CODON_SIZE)\n",
    "\n",
    "    # define the hall-of-fame object:\n",
    "    hof = tools.HallOfFame(HALL_OF_FAME_SIZE)\n",
    "    # prepare the statistics object:\n",
    "    # stats = tools.Statistics(key=lambda ind: ind.fitness.values if math.isnan(ind.fitness.values[0]) else None)#ind.fitness.values != np.inf else None)\n",
    "    # stats = tools.Statistics(key=lambda ind: ind.fitness.values[0] if not math.isnan(ind.fitness.values[0]) else np.NaN)#ind.fitness.values != np.inf else None)\n",
    "    # if not ind.invalid else (np.NaN,))#ind.fitness.values != np.inf else None)\n",
    "    stats = tools.Statistics(key=lambda ind: ind.fitness.values)\n",
    "    stats.register(\"avg\", np.nanmean)\n",
    "    stats.register(\"std\", np.nanstd)\n",
    "    stats.register(\"min\", np.nanmin)\n",
    "    stats.register(\"max\", np.nanmax)\n",
    "\n",
    "    # Which run are we on?\n",
    "    print(\"\\n\\nCurrently on run\", r, \"of\", N_RUNS)\n",
    "    # perform the Grammatical Evolution flow:\n",
    "    population, logbook = algorithms.ge_eaSimpleWithElitism(population, toolbox, cxpb=P_CROSSOVER, mutpb=P_MUTATION,\n",
    "                                                            ngen=MAX_GENERATIONS, elite_size=ELITE_SIZE,\n",
    "                                                            bnf_grammar=BNF_GRAMMAR, codon_size=CODON_SIZE,\n",
    "                                                            max_tree_depth=MAX_TREE_DEPTH,\n",
    "                                                            # points_train=[\n",
    "                                                            #     X_train, y_train],\n",
    "                                                            points_train=[X_train_2D, y_train],\n",
    "                                                            # points_test=[\n",
    "                                                            #     X_test, y_test],\n",
    "                                                            points_test=[\n",
    "                                                                X_test_2D, y_test],\n",
    "                                                            stats=stats, halloffame=hof, verbose=True)\n",
    "\n",
    "    max_fitness_values, mean_fitness_values = logbook.select(\"max\", \"avg\")\n",
    "    min_fitness_values, std_fitness_values = logbook.select(\"min\", \"std\")\n",
    "\n",
    "    # fitness_test = logbook.select(\"fitness_test\")\n",
    "    best_ind_length = logbook.select(\"best_ind_length\")\n",
    "    avg_length = logbook.select(\"avg_length\")\n",
    "    max_length = logbook.select(\"max_length\")\n",
    "    # selection_time = logbook.select(\"selection_time\")\n",
    "    # generation_time = logbook.select(\"generation_time\")\n",
    "    # gen, invalid = logbook.select(\"gen\", \"invalid\")\n",
    "\n",
    "    # Save statistics for this run:\n",
    "    avgListFitness.append(mean_fitness_values)\n",
    "    stdListFitness.append(std_fitness_values)\n",
    "    minListFitness.append(min_fitness_values)\n",
    "    maxListFitness.append(max_fitness_values)\n",
    "\n",
    "    avgListSize.append(avg_length)\n",
    "    bestListSize.append(best_ind_length)\n",
    "    # stdListSize.append(stdSizeValues)\n",
    "    # minListSize.append(minSizeValues)\n",
    "    maxListSize.append(max_length)\n",
    "\n",
    "    best = hof.items[0].phenotype  # parser to change the individual\n",
    "    print(\"Best individual: \\n\", \"\\n\".join(textwrap.wrap(best, 80)))\n",
    "    print(\"\\nTraining Fitness: \", hof.items[0].fitness.values[0])\n",
    "    print(\"Depth: \", hof.items[0].depth)\n",
    "    print(\"Length of the genome: \", len(hof.items[0].genome))\n",
    "    print(\n",
    "        f'Used portion of the genome: {hof.items[0].used_codons/len(hof.items[0].genome):.2f}')\n"
   ]
  },
  {
   "cell_type": "code",
   "execution_count": 32,
   "metadata": {},
   "outputs": [
    {
     "data": {
      "image/png": "[encoded data removed]",
      "text/plain": [
       "<Figure size 432x288 with 1 Axes>"
      ]
     },
     "metadata": {
      "needs_background": "light"
     },
     "output_type": "display_data"
    }
   ],
   "source": [
    "#plot statistics:\n",
    "x = np.arange(0, MAX_GENERATIONS+1)\n",
    "avgArray = np.array(avgListFitness)\n",
    "stdArray = np.array(stdListFitness)\n",
    "minArray = np.array(minListFitness)\n",
    "maxArray = np.array(maxListFitness)\n",
    "\n",
    "plt.xlabel('Generation')\n",
    "plt.ylabel('Fitness')\n",
    "plt.title('Fitness Symbollic Regression')\n",
    "# plt.errorbar(x, avgArray.mean(0), yerr=stdArray.mean(0),label=\"Average\",color=\"Red\")\n",
    "# plt.errorbar(x, minArray.mean(0), yerr=minArray.std(0),label=\"Best\", color=\"Green\")\n",
    "plt.plot(x, avgArray.mean(0),label=\"Average\",color=\"Blue\")\n",
    "plt.plot(x, minArray.mean(0),label=\"Best\", color=\"Green\")\n",
    "plt.plot(x, maxArray.mean(0),label=\"Worst\", color=\"Red\")\n",
    "plt.yscale('log')\n",
    "# plt.plot(x, maxArray.mean(0),label=\"Worst\", color=\"Blue\")\n",
    "# plt.errorbar(x, maxArray.mean(0), yerr=maxArray.std(0),label=\"Best\", color=\"Blue\")\n",
    "plt.legend()\n",
    "# plt.ylim([0, 100])\n",
    "plt.show()"
   ]
  },
  {
   "cell_type": "code",
   "execution_count": 47,
   "metadata": {},
   "outputs": [
    {
     "data": {
      "image/png": "[encoded data removed]",
      "text/plain": [
       "<Figure size 432x288 with 1 Axes>"
      ]
     },
     "metadata": {
      "needs_background": "light"
     },
     "output_type": "display_data"
    }
   ],
   "source": [
    "x = np.arange(0, MAX_GENERATIONS+1)\n",
    "avgSizeArray = np.array(avgListSize)\n",
    "bestSizeArray = np.array(bestListSize)\n",
    "maxSizeArray = np.array(maxListSize)\n",
    "\n",
    "\n",
    "plt.errorbar(x, avgSizeArray.mean(0), yerr=avgSizeArray.std(0),label=\"Average\",color=\"Red\")\n",
    "# plt.errorbar(x, maxSizeArray.mean(0), yerr=maxSizeArray.std(0), label=\"Max\", color=\"Green\")\n",
    "plt.errorbar(x, bestSizeArray.mean(0), yerr=bestSizeArray.std(0), label=\"Best\", color=\"Blue\")\n",
    "plt.legend(fontsize=12)\n",
    "plt.xlabel('Generations', fontsize=14)\n",
    "plt.ylabel('Genome Length', fontsize=14)\n",
    "plt.title('Genome Length over Generations', fontsize=16)\n",
    "plt.legend()\n",
    "plt.show()"
   ]
  }
 ],
 "metadata": {
  "kernelspec": {
   "display_name": "Python 3.10.4 ('myenv': venv)",
   "language": "python",
   "name": "python3"
  },
  "language_info": {
   "codemirror_mode": {
    "name": "ipython",
    "version": 3
   },
   "file_extension": ".py",
   "mimetype": "text/x-python",
   "name": "python",
   "nbconvert_exporter": "python",
   "pygments_lexer": "ipython3",
   "version": "3.10.4"
  },
  "orig_nbformat": 4,
  "vscode": {
   "interpreter": {
    "hash": "631f704b9e8fafa5cc14b000c3d1822bff447ca4832cfc1f551814fb86cd020f"
   }
  }
 },
 "nbformat": 4,
 "nbformat_minor": 2
}
