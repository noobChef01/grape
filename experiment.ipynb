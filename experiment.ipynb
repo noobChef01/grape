{
 "cells": [
  {
   "cell_type": "code",
   "execution_count": 1,
   "metadata": {},
   "outputs": [],
   "source": [
    "\n",
    "# from ponyge2_adapted_files import Grammar, Individual, initialisation_PI_Grow, crossover_onepoint, mutation_int_flip_per_codon\n",
    "from ponyge2_adapted_files import Grammar, ge\n",
    "import algorithms\n",
    "from functions import div, plog, psqrt, exp\n",
    "from nltk import edit_distance\n",
    "\n",
    "from collections import Counter\n",
    "from os import path\n",
    "import pandas as pd\n",
    "import numpy as np\n",
    "import matplotlib.pyplot as plt\n",
    "from deap import creator, base, tools\n",
    "from sklearn.model_selection import train_test_split\n",
    "# from parser import parse\n",
    "\n",
    "import warnings\n",
    "warnings.filterwarnings(\"ignore\")"
   ]
  },
  {
   "cell_type": "code",
   "execution_count": 2,
   "metadata": {},
   "outputs": [],
   "source": [
    "from parser import parse_"
   ]
  },
  {
   "cell_type": "code",
   "execution_count": 3,
   "metadata": {},
   "outputs": [],
   "source": [
    "x = np.arange(0, 100)\n",
    "y = lambda x: (2*(x**2)) + ((-3)*x) + 1\n",
    "noise = np.random.randint(0, 20, size=x.shape)\n",
    "y_noised = y(x) + noise\n",
    "\n",
    "X_train, X_test, y_train, y_test = train_test_split(x, y_noised, test_size=0.1, shuffle=True) "
   ]
  },
  {
   "cell_type": "code",
   "execution_count": 4,
   "metadata": {},
   "outputs": [
    {
     "data": {
      "image/png": "[encoded data removed]",
      "text/plain": [
       "<Figure size 432x288 with 1 Axes>"
      ]
     },
     "metadata": {
      "needs_background": "light"
     },
     "output_type": "display_data"
    }
   ],
   "source": [
    "plt.scatter(X_train, y_train)\n",
    "plt.title(\"Train data\")\n",
    "plt.xlabel(\"x\")\n",
    "plt.ylabel(\"y\")\n",
    "plt.show()"
   ]
  },
  {
   "cell_type": "code",
   "execution_count": 5,
   "metadata": {},
   "outputs": [
    {
     "data": {
      "image/png": "[encoded data removed]",
      "text/plain": [
       "<Figure size 432x288 with 1 Axes>"
      ]
     },
     "metadata": {
      "needs_background": "light"
     },
     "output_type": "display_data"
    }
   ],
   "source": [
    "plt.scatter(X_test, y_test)\n",
    "plt.title(\"Train data\")\n",
    "plt.xlabel(\"x\")\n",
    "plt.ylabel(\"y\")\n",
    "plt.show()"
   ]
  },
  {
   "cell_type": "code",
   "execution_count": 81,
   "metadata": {},
   "outputs": [],
   "source": [
    "GRAMMAR_FILE = 'exp-grammar.bnf'\n",
    "BNF_GRAMMAR = Grammar(path.join(\"grammars\", GRAMMAR_FILE))"
   ]
  },
  {
   "cell_type": "code",
   "execution_count": 94,
   "metadata": {},
   "outputs": [],
   "source": [
    "def write_stat(value, file_name):\n",
    "    with open(file_name, \"w\") as write_file:\n",
    "        write_file.write(str(value))\n",
    "\n",
    "\n",
    "def read_stat(file_name):\n",
    "    with open(file_name, \"r\") as write_file:\n",
    "        cnt = int(write_file.read())\n",
    "    return cnt"
   ]
  },
  {
   "cell_type": "code",
   "execution_count": 96,
   "metadata": {},
   "outputs": [],
   "source": [
    "### cold-start\n",
    "with open(\"statistics.txt\", \"w\") as write_file:\n",
    "    write_file.write(str(0))"
   ]
  },
  {
   "cell_type": "code",
   "execution_count": 97,
   "metadata": {},
   "outputs": [],
   "source": [
    "def fitness_eval(individual, points):\n",
    "    #points = [X, Y]\n",
    "    x = points[0]\n",
    "    y = points[1]\n",
    "    \n",
    "    if individual.invalid == True:\n",
    "        return np.NaN,\n",
    "    try:\n",
    "        # pred = eval(individual.phenotype)\n",
    "        pred = eval(parse_(individual.phenotype))\n",
    "    # except (FloatingPointError, ZeroDivisionError, OverflowError,\n",
    "    #         MemoryError, ValueError):\n",
    "    except Exception as e:\n",
    "        cnt = read_stat(\"statistics.txt\") + 1\n",
    "        write_stat(cnt, \"statistics.txt\")\n",
    "        # write_stat(e, \"statistics.txt\")\n",
    "        return np.NaN,\n",
    "    assert np.isrealobj(pred)\n",
    "    \n",
    "    try:\n",
    "        fitness = np.mean(np.absolute(y - pred))\n",
    "    # except (FloatingPointError, ZeroDivisionError, OverflowError,\n",
    "    #         MemoryError, ValueError):\n",
    "    except Exception as e:\n",
    "        # cnt = read_stat(\"statistics.txt\") + 1\n",
    "        write_stat(cnt, \"statistics.txt\")\n",
    "        # write_stat(e, \"statistics.txt\")\n",
    "        fitness = np.NaN\n",
    "        \n",
    "    if fitness == float(\"inf\"):\n",
    "        return np.NaN,\n",
    "    \n",
    "    return fitness,"
   ]
  },
  {
   "cell_type": "code",
   "execution_count": 98,
   "metadata": {},
   "outputs": [],
   "source": [
    "toolbox = base.Toolbox()\n",
    "\n",
    "# define a single objective, minimising fitness strategy:\n",
    "creator.create(\"FitnessMin\", base.Fitness, weights=(-1.0,))\n",
    "\n",
    "creator.create('Individual', ge.Individual, fitness=creator.FitnessMin)\n",
    "\n",
    "toolbox.register(\"populationCreator\", ge.initialisation_PI_Grow, creator.Individual) \n",
    "\n",
    "toolbox.register(\"evaluate\", fitness_eval)#, points=[X_train, Y_train])\n",
    "\n",
    "# Tournament selection:\n",
    "toolbox.register(\"select\", ge.selTournament, tournsize=3)\n",
    "\n",
    "# Single-point crossover:\n",
    "toolbox.register(\"mate\", ge.crossover_onepoint)\n",
    "\n",
    "# Flip-int mutation:\n",
    "toolbox.register(\"mutate\", ge.mutation_int_flip_per_codon)\n"
   ]
  },
  {
   "cell_type": "code",
   "execution_count": 99,
   "metadata": {},
   "outputs": [],
   "source": [
    "POPULATION_SIZE = 100\n",
    "MAX_GENERATIONS = 50\n",
    "P_CROSSOVER = 0.8\n",
    "P_MUTATION = 0.01\n",
    "ELITE_SIZE = round(0.01*POPULATION_SIZE)\n",
    "\n",
    "HALL_OF_FAME_SIZE = 1\n",
    "MAX_INIT_TREE_DEPTH = 10\n",
    "MIN_INIT_TREE_DEPTH = 1\n",
    "MAX_TREE_DEPTH = 15\n",
    "MAX_WRAPS = 0\n",
    "CODON_SIZE = 255"
   ]
  },
  {
   "cell_type": "code",
   "execution_count": 100,
   "metadata": {},
   "outputs": [],
   "source": [
    "# create initial population (generation 0):\n",
    "population = toolbox.populationCreator(size=POPULATION_SIZE, \n",
    "                                        bnf_grammar=BNF_GRAMMAR, \n",
    "                                        min_init_tree_depth=MIN_INIT_TREE_DEPTH,\n",
    "                                        max_init_tree_depth=MAX_INIT_TREE_DEPTH,\n",
    "                                        max_tree_depth=MAX_TREE_DEPTH, \n",
    "                                        max_wraps=MAX_WRAPS,\n",
    "                                        codon_size=CODON_SIZE\n",
    "                                        )"
   ]
  },
  {
   "cell_type": "code",
   "execution_count": 101,
   "metadata": {},
   "outputs": [],
   "source": [
    "# define the hall-of-fame object:\n",
    "hof = tools.HallOfFame(HALL_OF_FAME_SIZE)\n",
    "\n",
    "import math \n",
    "# prepare the statistics object:\n",
    "#stats = tools.Statistics(key=lambda ind: ind.fitness.values if math.isnan(ind.fitness.values[0]) else None)#ind.fitness.values != np.inf else None)\n",
    "#stats = tools.Statistics(key=lambda ind: ind.fitness.values[0] if not math.isnan(ind.fitness.values[0]) else np.NaN)#ind.fitness.values != np.inf else None)\n",
    "stats = tools.Statistics(key=lambda ind: ind.fitness.values)# if not ind.invalid else (np.NaN,))#ind.fitness.values != np.inf else None)\n",
    "stats.register(\"avg\", np.nanmean)\n",
    "stats.register(\"std\", np.nanstd)\n",
    "stats.register(\"min\", np.nanmin)\n",
    "stats.register(\"max\", np.nanmax)"
   ]
  },
  {
   "cell_type": "code",
   "execution_count": 102,
   "metadata": {},
   "outputs": [
    {
     "name": "stdout",
     "output_type": "stream",
     "text": [
      "gen\tinvalid\tavg       \tstd        \tmin    \tmax    \tfitness_test\tbest_ind_length\tavg_length\tmax_length\tselection_time\tgeneration_time\n",
      "0  \t0      \t2.2027e+09\t1.60712e+10\t4741.78\t1.6e+11\t7608.02     \t234            \t81.75     \t354       \t0             \t0.118422       \n",
      "1  \t42     \t13117.3   \t38817.9    \t4741.78\t292522 \t7608.02     \t234            \t35.66     \t243       \t0.000591278   \t0.109456       \n",
      "2  \t13     \t7639.92   \t10113.7    \t4741.78\t67064.4\t7608.02     \t234            \t32.89     \t234       \t0.0005548     \t0.0822792      \n",
      "3  \t9      \t7271.57   \t9259.33    \t4741.78\t57895.6\t7608.02     \t234            \t21.05     \t234       \t0.000541449   \t0.0595007      \n",
      "4  \t8      \t7165.98   \t9317.41    \t4741.78\t57895.6\t7608.02     \t234            \t25.06     \t234       \t0.00067234    \t0.0780075      \n",
      "5  \t14     \t5379.82   \t524.893    \t4741.78\t8815.6 \t7608.02     \t234            \t23.1      \t234       \t0.000522614   \t0.064769       \n",
      "6  \t14     \t7712.08   \t11089.7    \t4741.78\t57935.6\t7608.02     \t234            \t25.19     \t234       \t0.000538826   \t0.0721369      \n",
      "7  \t7      \t11280.6   \t28099.1    \t4741.78\t249857 \t7608.02     \t234            \t35.21     \t234       \t0.000638247   \t0.0795653      \n",
      "8  \t5      \t9188.51   \t16784      \t4741.78\t121936 \t7608.02     \t234            \t35.83     \t245       \t0.000912428   \t0.0836251      \n",
      "9  \t7      \t4.30204e+07\t4.12543e+08\t4741.78\t4e+09  \t7608.02     \t234            \t37.46     \t234       \t0.000596285   \t0.0792699      \n",
      "10 \t9      \t43267.3    \t265701     \t4741.78\t2.55562e+06\t7608.02     \t234            \t45.85     \t234       \t0.000566721   \t0.107356       \n",
      "11 \t8      \t35599.6    \t264641     \t4741.78\t2.55734e+06\t7608.02     \t234            \t45.48     \t234       \t0.000555992   \t0.103096       \n",
      "12 \t6      \t36638      \t261466     \t4741.78\t2.55386e+06\t7608.02     \t234            \t49.04     \t234       \t0.000577688   \t0.102278       \n",
      "13 \t11     \t4.4958e+07 \t4.21609e+08\t4741.78\t4e+09      \t7608.02     \t234            \t52.64     \t234       \t0.000576258   \t0.114433       \n",
      "14 \t15     \t4.70983e+07\t4.31297e+08\t4741.78\t4e+09      \t7608.02     \t234            \t48.47     \t234       \t0.000813007   \t0.11787        \n",
      "15 \t24     \t5.26393e+07\t4.55802e+08\t4741.78\t4e+09      \t7608.02     \t234            \t51.65     \t236       \t0.00056386    \t0.0894253      \n",
      "16 \t11     \t4.49548e+07\t4.21609e+08\t4741.78\t4e+09      \t7608.02     \t234            \t53.51     \t234       \t0.000569344   \t0.0974317      \n",
      "17 \t13     \t4.61032e+07\t4.26361e+08\t4741.78\t4e+09      \t7608.02     \t234            \t55.77     \t245       \t0.000569582   \t0.0868711      \n",
      "18 \t13     \t69839.4    \t381961     \t4741.78\t2.56063e+06\t7608.02     \t234            \t60.3      \t273       \t0.000601292   \t0.217233       \n",
      "19 \t18     \t43483.5    \t279588     \t4741.78\t2.5539e+06 \t7608.02     \t234            \t60.06     \t234       \t0.000489473   \t0.100063       \n",
      "20 \t7      \t43703.5    \t267328     \t4741.78\t2.5555e+06 \t7608.02     \t234            \t56.8      \t234       \t0.000564337   \t0.101119       \n",
      "21 \t13     \t1.83915e+09\t1.70549e+10\t4741.78\t1.6e+11    \t7608.02     \t234            \t58.97     \t235       \t0.000560999   \t0.0998049      \n",
      "22 \t13     \t43228.5    \t271496     \t4741.78\t2.55394e+06\t7608.02     \t234            \t61.15     \t235       \t0.000580788   \t0.101529       \n",
      "23 \t9      \t96322.4    \t454337     \t4741.78\t2.5555e+06 \t7608.02     \t234            \t65.22     \t234       \t0.000575781   \t0.107607       \n",
      "24 \t9      \t21041.3    \t52663.7    \t4741.78\t446777     \t7608.02     \t234            \t71.4      \t234       \t0.000588179   \t0.106572       \n",
      "25 \t8      \t121148     \t519354     \t4741.78\t2.55883e+06\t7608.02     \t234            \t64.94     \t234       \t0.000585794   \t0.0840988      \n",
      "26 \t6      \t68721.4    \t367927     \t4741.78\t2.55554e+06\t7608.02     \t234            \t62.34     \t234       \t0.00059247    \t0.0928974      \n",
      "27 \t5      \t16053.7    \t53466.6    \t4741.78\t507497     \t7608.02     \t234            \t67.64     \t243       \t0.000526428   \t0.0961306      \n",
      "28 \t11     \t1.25454e+06\t1.07915e+07\t4741.78\t1.02395e+08\t7608.02     \t234            \t67.92     \t243       \t0.000857353   \t0.138725       \n",
      "29 \t10     \t72000      \t374910     \t4741.78\t2.5555e+06 \t7608.02     \t234            \t70.45     \t248       \t0.000643253   \t0.099292       \n",
      "30 \t6      \t70472.9    \t367215     \t4741.78\t2.55714e+06\t7608.02     \t234            \t67        \t241       \t0.000575542   \t0.0900819      \n",
      "31 \t6      \t234537     \t708377     \t4741.78\t2.55714e+06\t7608.02     \t234            \t69.62     \t241       \t0.000965834   \t0.0960426      \n",
      "32 \t6      \t94844      \t451095     \t4741.78\t2.61798e+06\t7608.02     \t234            \t69.52     \t234       \t0.00053668    \t0.0715656      \n",
      "33 \t11     \t99541.4    \t458937     \t4741.78\t2.5555e+06 \t7608.02     \t234            \t72.41     \t334       \t0.000551939   \t0.079603       \n",
      "34 \t8      \t4.35229e+07\t4.14752e+08\t4741.78\t4e+09      \t7608.02     \t234            \t69.08     \t234       \t0.000530243   \t0.0727904      \n",
      "35 \t12     \t72823.4    \t378940     \t4741.78\t2.55386e+06\t7608.02     \t234            \t76.35     \t234       \t0.000527143   \t0.111961       \n",
      "36 \t3      \t16755.7    \t22485.9    \t4741.78\t61215.6    \t7608.02     \t234            \t67.07     \t239       \t0.000553846   \t0.0741122      \n",
      "37 \t3      \t119237     \t505507     \t4741.78\t2.55718e+06\t7608.02     \t234            \t67.27     \t234       \t0.000497818   \t0.086966       \n",
      "38 \t6      \t125598     \t512507     \t4741.78\t2.55546e+06\t7608.02     \t234            \t72.94     \t336       \t0.000535488   \t0.0842521      \n",
      "39 \t5      \t68480.2    \t365084     \t4741.78\t2.5539e+06 \t7608.02     \t234            \t78.41     \t234       \t0.000566483   \t0.0739455      \n",
      "40 \t5      \t94479.1    \t444867     \t4741.78\t2.5571e+06 \t7608.02     \t234            \t66.34     \t234       \t0.000528574   \t0.0755005      \n",
      "41 \t7      \t207641     \t670117     \t4741.78\t2.55554e+06\t7608.02     \t234            \t59.63     \t286       \t0.000534534   \t0.0937691      \n",
      "42 \t4      \t95562.2    \t442252     \t4741.78\t2.5555e+06 \t7608.02     \t234            \t59.16     \t234       \t0.000522375   \t0.0817866      \n",
      "43 \t5      \t42602.8    \t260249     \t4741.78\t2.5571e+06 \t7608.02     \t234            \t64.29     \t234       \t0.000545979   \t0.0924494      \n",
      "44 \t0      \t65741.7    \t356191     \t4741.78\t2.5555e+06 \t7608.02     \t234            \t60.56     \t234       \t0.000642538   \t0.0651         \n",
      "45 \t9      \t215426     \t675881     \t4741.78\t2.5573e+06 \t7608.02     \t234            \t66.6      \t234       \t0.000489712   \t0.086977       \n",
      "46 \t5      \t1.20348e+06\t1.04496e+07\t4741.78\t1.02394e+08\t7608.02     \t234            \t61.27     \t234       \t0.000542641   \t0.16241        \n",
      "47 \t5      \t43252.1    \t260389     \t4741.78\t2.55878e+06\t7608.02     \t234            \t53.97     \t234       \t0.000484467   \t0.0772698      \n",
      "48 \t5      \t92308.2    \t444986     \t4741.78\t2.55566e+06\t7608.02     \t234            \t61.94     \t234       \t0.000519276   \t0.0804231      \n",
      "49 \t3      \t1.1233e+06 \t1.03427e+07\t4741.78\t1.02397e+08\t7608.02     \t234            \t67.66     \t234       \t0.000530481   \t0.0775943      \n",
      "50 \t4      \t176452     \t617172     \t4741.78\t2.61794e+06\t7608.02     \t234            \t71.39     \t234       \t0.00107908    \t0.0957646      \n"
     ]
    }
   ],
   "source": [
    "# perform the Grammatical Evolution flow:\n",
    "population, logbook = algorithms.ge_eaSimpleWithElitism(population, toolbox, cxpb=P_CROSSOVER, mutpb=P_MUTATION,\n",
    "                                          ngen=MAX_GENERATIONS, elite_size=ELITE_SIZE,\n",
    "                                          bnf_grammar=BNF_GRAMMAR, codon_size=CODON_SIZE, \n",
    "                                          max_tree_depth=MAX_TREE_DEPTH, max_wraps=MAX_WRAPS,\n",
    "                                          points_train=[X_train, y_train], \n",
    "                                          points_test=[X_test, y_test], \n",
    "                                          stats=stats, halloffame=hof, verbose=True)"
   ]
  },
  {
   "cell_type": "code",
   "execution_count": 103,
   "metadata": {},
   "outputs": [
    {
     "name": "stdout",
     "output_type": "stream",
     "text": [
      "Best individual: \n",
      " x[0]/(x[0]+1e-08)*x[0]*x[0]/(x[0]+1e-08)-x[0]+x[0]/(x[0]+1e-08)-x[0]/(x[0]+1e-08\n",
      ")/(x[0]+1e-08)*x[0]-4/(x[0]+1e-08)*x[0]+x[0]*1-7/(x[0]+1e-08)*x[0]-x[0]+x[0]/(x[\n",
      "0]+1e-08)*x[0]+3-x[0]*x[0]/(x[0]+1e-08)+x[0]*x[0]-x[0]/(x[0]+1e-08)/(x[0]+1e-08)\n",
      "/(x[0]+1e-08)*x[0]*x[0]*x[0]+x[0]/(x[0]+1e-08)-x[0]-x[0]*x[0]+x[0]*x[0]*x[0]/(x[\n",
      "0]+1e-08)-x[0]+x[0]/(x[0]+1e-08)-9-x[0]/(x[0]+1e-08)-x[0]/(x[0]+1e-08)/(x[0]+1e-\n",
      "08)-x[0]/(x[0]+1e-08)+x[0]*x[0]*x[0]/(x[0]+1e-08)+x[0]*x[0]/(x[0]+1e-08)+x[0]*x[\n",
      "0]-x[0]-x[0]/(x[0]+1e-08)+x[0]/(x[0]+1e-08)+x[0]/(x[0]+1e-08)*x[0]/(x[0]+1e-08)-\n",
      "x[0]\n",
      "\n",
      "Training Fitness:  4741.777777777777\n",
      "Depth:  9\n",
      "Length of the genome:  234\n",
      "Used portion of the genome: 0.67\n"
     ]
    }
   ],
   "source": [
    "import textwrap\n",
    "best = parse_(hof.items[0].phenotype)\n",
    "print(\"Best individual: \\n\",\"\\n\".join(textwrap.wrap(best,80)))\n",
    "print(\"\\nTraining Fitness: \", hof.items[0].fitness.values[0])\n",
    "print(\"Depth: \", hof.items[0].depth)\n",
    "print(\"Length of the genome: \", len(hof.items[0].genome))\n",
    "print(f'Used portion of the genome: {hof.items[0].used_codons/len(hof.items[0].genome):.2f}')"
   ]
  },
  {
   "cell_type": "code",
   "execution_count": 104,
   "metadata": {},
   "outputs": [],
   "source": [
    "max_fitness_values, mean_fitness_values = logbook.select(\"max\", \"avg\")\n",
    "min_fitness_values, std_fitness_values = logbook.select(\"min\", \"std\")\n",
    "fitness_test = logbook.select(\"fitness_test\")\n",
    "best_ind_length = logbook.select(\"best_ind_length\")\n",
    "avg_length = logbook.select(\"avg_length\")\n",
    "max_length = logbook.select(\"max_length\")\n",
    "selection_time = logbook.select(\"selection_time\")\n",
    "generation_time = logbook.select(\"generation_time\")\n",
    "gen, invalid = logbook.select(\"gen\", \"invalid\")"
   ]
  },
  {
   "cell_type": "code",
   "execution_count": 105,
   "metadata": {},
   "outputs": [
    {
     "data": {
      "image/png": "[encoded data removed]",
      "text/plain": [
       "<Figure size 432x288 with 1 Axes>"
      ]
     },
     "metadata": {
      "needs_background": "light"
     },
     "output_type": "display_data"
    }
   ],
   "source": [
    "plt.plot(gen, min_fitness_values, color='red', label=\"Training fitness\")\n",
    "plt.plot(gen, fitness_test, color='blue', label=\"Test fitness\")\n",
    "plt.legend(fontsize=12)\n",
    "plt.xlabel('Generations', fontsize=14)\n",
    "plt.ylabel('Best Fitness', fontsize=14)\n",
    "plt.title('Best Fitness over Generations', fontsize=16)\n",
    "plt.show()"
   ]
  },
  {
   "cell_type": "code",
   "execution_count": 106,
   "metadata": {},
   "outputs": [
    {
     "data": {
      "image/png": "[encoded data removed]",
      "text/plain": [
       "<Figure size 432x288 with 1 Axes>"
      ]
     },
     "metadata": {
      "needs_background": "light"
     },
     "output_type": "display_data"
    }
   ],
   "source": [
    "plt.plot(gen, max_length, color='red', label=\"Maximum\")\n",
    "plt.plot(gen, avg_length, color='blue', label=\"Average\")\n",
    "plt.plot(gen, best_ind_length, color='green', label=\"Best individual\")\n",
    "plt.legend(fontsize=12)\n",
    "plt.xlabel('Generations', fontsize=14)\n",
    "plt.ylabel('Genome Length', fontsize=14)\n",
    "plt.title('Genome Length over Generations', fontsize=16)\n",
    "plt.show()"
   ]
  },
  {
   "cell_type": "code",
   "execution_count": null,
   "metadata": {},
   "outputs": [],
   "source": []
  },
  {
   "cell_type": "code",
   "execution_count": null,
   "metadata": {},
   "outputs": [],
   "source": []
  }
 ],
 "metadata": {
  "interpreter": {
   "hash": "ebeabf5d06ed91028509ad9805f066b44b9c23fee1bc267ef60668837e5ac050"
  },
  "kernelspec": {
   "display_name": "Python 3.6.9 ('project_dir': venv)",
   "language": "python",
   "name": "python3"
  },
  "language_info": {
   "codemirror_mode": {
    "name": "ipython",
    "version": 3
   },
   "file_extension": ".py",
   "mimetype": "text/x-python",
   "name": "python",
   "nbconvert_exporter": "python",
   "pygments_lexer": "ipython3",
   "version": "3.6.9"
  },
  "orig_nbformat": 4
 },
 "nbformat": 4,
 "nbformat_minor": 2
}
