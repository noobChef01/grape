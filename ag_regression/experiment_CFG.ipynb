{
 "cells": [
  {
   "cell_type": "code",
   "execution_count": 1,
   "metadata": {},
   "outputs": [],
   "source": [
    "\n",
    "from ponyge2_adapted_files import Grammar, ge\n",
    "import algorithms\n",
    "from functions import div, plog, psqrt, exp\n",
    "from nltk import edit_distance\n",
    "\n",
    "from collections import Counter\n",
    "from os import path\n",
    "import pandas as pd\n",
    "import numpy as np\n",
    "import matplotlib.pyplot as plt\n",
    "from deap import creator, base, tools\n",
    "from sklearn.model_selection import train_test_split\n",
    "\n",
    "import warnings\n",
    "warnings.filterwarnings(\"ignore\")"
   ]
  },
  {
   "cell_type": "code",
   "execution_count": 2,
   "metadata": {},
   "outputs": [],
   "source": [
    "x = np.arange(0, 100)\n",
    "y = lambda x: 12.5 * x + 4\n",
    "noise = 100* np.random.normal(0, 1, size=x.shape)\n",
    "y_noised = y(x) + noise\n",
    "\n",
    "X_train, X_test, y_train, y_test = train_test_split(x, y_noised, test_size=0.1, shuffle=True) "
   ]
  },
  {
   "cell_type": "code",
   "execution_count": 3,
   "metadata": {},
   "outputs": [
    {
     "data": {
      "image/png": "[encoded data removed]",
      "text/plain": [
       "<Figure size 432x288 with 1 Axes>"
      ]
     },
     "metadata": {
      "needs_background": "light"
     },
     "output_type": "display_data"
    }
   ],
   "source": [
    "plt.scatter(X_train, y_train)\n",
    "plt.title(\"Train data\")\n",
    "plt.xlabel(\"x\")\n",
    "plt.ylabel(\"y\")\n",
    "plt.show()"
   ]
  },
  {
   "cell_type": "code",
   "execution_count": 4,
   "metadata": {},
   "outputs": [
    {
     "data": {
      "image/png": "[encoded data removed]",
      "text/plain": [
       "<Figure size 432x288 with 1 Axes>"
      ]
     },
     "metadata": {
      "needs_background": "light"
     },
     "output_type": "display_data"
    }
   ],
   "source": [
    "plt.scatter(X_test, y_test)\n",
    "plt.title(\"Test data\")\n",
    "plt.xlabel(\"x\")\n",
    "plt.ylabel(\"y\")\n",
    "plt.show()"
   ]
  },
  {
   "cell_type": "code",
   "execution_count": 5,
   "metadata": {},
   "outputs": [],
   "source": [
    "GRAMMAR_FILE = 'exp-grammar.bnf'\n",
    "BNF_GRAMMAR = Grammar(path.join(\"grammars\", GRAMMAR_FILE))"
   ]
  },
  {
   "cell_type": "code",
   "execution_count": 6,
   "metadata": {},
   "outputs": [],
   "source": [
    "def write_stat(value, file_name):\n",
    "    with open(file_name, \"w\") as write_file:\n",
    "        write_file.write(str(value))\n",
    "\n",
    "\n",
    "def read_stat(file_name):\n",
    "    with open(file_name, \"r\") as write_file:\n",
    "        cnt = int(write_file.read())\n",
    "    return cnt"
   ]
  },
  {
   "cell_type": "code",
   "execution_count": 7,
   "metadata": {},
   "outputs": [],
   "source": [
    "### cold-start\n",
    "with open(\"statistics-cfg.txt\", \"w\") as write_file:\n",
    "    write_file.write(str(0))"
   ]
  },
  {
   "cell_type": "code",
   "execution_count": 8,
   "metadata": {},
   "outputs": [],
   "source": [
    "def fitness_eval(individual, points):\n",
    "    #points = [X, Y]\n",
    "    x = points[0]\n",
    "    y = points[1]\n",
    "    \n",
    "    if individual.invalid == True:\n",
    "        return np.NaN,\n",
    "    try:\n",
    "        pred = eval(individual.phenotype)\n",
    "        # pred = eval(parse(individual.phenotype))\n",
    "    # except (FloatingPointError, ZeroDivisionError, OverflowError,\n",
    "    #         MemoryError, ValueError):\n",
    "    except Exception as e:\n",
    "        cnt = read_stat(\"statistics-cfg.txt\") + 1\n",
    "        write_stat(cnt, \"statistics-cfg.txt\")\n",
    "        # write_stat(e, \"statistics-cfg.txt\")\n",
    "        return np.NaN,\n",
    "    assert np.isrealobj(pred)\n",
    "    \n",
    "    try:\n",
    "        fitness = np.mean(np.absolute(y - pred))\n",
    "    # except (FloatingPointError, ZeroDivisionError, OverflowError,\n",
    "    #         MemoryError, ValueError):\n",
    "    except Exception as e:\n",
    "        # cnt = read_stat(\"statistics-cfg.txt\") + 1\n",
    "        write_stat(cnt, \"statistics-cfg.txt\")\n",
    "        # write_stat(e, \"statistics-cfg.txt\")\n",
    "        fitness = np.NaN\n",
    "        \n",
    "    if fitness == float(\"inf\"):\n",
    "        return np.NaN,\n",
    "    \n",
    "    return fitness,"
   ]
  },
  {
   "cell_type": "code",
   "execution_count": 9,
   "metadata": {},
   "outputs": [],
   "source": [
    "toolbox = base.Toolbox()\n",
    "\n",
    "# define a single objective, minimising fitness strategy:\n",
    "creator.create(\"FitnessMin\", base.Fitness, weights=(-1.0,))\n",
    "\n",
    "creator.create('Individual', ge.Individual, fitness=creator.FitnessMin)\n",
    "\n",
    "toolbox.register(\"populationCreator\", ge.initialisation_PI_Grow, creator.Individual) \n",
    "\n",
    "toolbox.register(\"evaluate\", fitness_eval)#, points=[X_train, Y_train])\n",
    "\n",
    "# Tournament selection:\n",
    "toolbox.register(\"select\", ge.selTournament, tournsize=3)\n",
    "\n",
    "# Single-point crossover:\n",
    "toolbox.register(\"mate\", ge.crossover_onepoint)\n",
    "\n",
    "# Flip-int mutation:\n",
    "toolbox.register(\"mutate\", ge.mutation_int_flip_per_codon)\n"
   ]
  },
  {
   "cell_type": "code",
   "execution_count": 10,
   "metadata": {},
   "outputs": [],
   "source": [
    "POPULATION_SIZE = 200\n",
    "MAX_GENERATIONS = 150\n",
    "P_CROSSOVER = 0.9\n",
    "P_MUTATION = 0.01\n",
    "ELITE_SIZE = round(0.01*POPULATION_SIZE)\n",
    "\n",
    "HALL_OF_FAME_SIZE = 1\n",
    "MAX_INIT_TREE_DEPTH = 5\n",
    "MIN_INIT_TREE_DEPTH = 1\n",
    "MAX_TREE_DEPTH = 8\n",
    "MAX_WRAPS = 0\n",
    "CODON_SIZE = 255"
   ]
  },
  {
   "cell_type": "code",
   "execution_count": 11,
   "metadata": {},
   "outputs": [],
   "source": [
    "# create initial population (generation 0):\n",
    "population = toolbox.populationCreator(size=POPULATION_SIZE, \n",
    "                                        bnf_grammar=BNF_GRAMMAR, \n",
    "                                        min_init_tree_depth=MIN_INIT_TREE_DEPTH,\n",
    "                                        max_init_tree_depth=MAX_INIT_TREE_DEPTH,\n",
    "                                        max_tree_depth=MAX_TREE_DEPTH, \n",
    "                                        max_wraps=MAX_WRAPS,\n",
    "                                        codon_size=CODON_SIZE\n",
    "                                        )"
   ]
  },
  {
   "cell_type": "code",
   "execution_count": 12,
   "metadata": {},
   "outputs": [],
   "source": [
    "# define the hall-of-fame object:\n",
    "hof = tools.HallOfFame(HALL_OF_FAME_SIZE)\n",
    "\n",
    "import math \n",
    "# prepare the statistics object:\n",
    "#stats = tools.Statistics(key=lambda ind: ind.fitness.values if math.isnan(ind.fitness.values[0]) else None)#ind.fitness.values != np.inf else None)\n",
    "#stats = tools.Statistics(key=lambda ind: ind.fitness.values[0] if not math.isnan(ind.fitness.values[0]) else np.NaN)#ind.fitness.values != np.inf else None)\n",
    "stats = tools.Statistics(key=lambda ind: ind.fitness.values)# if not ind.invalid else (np.NaN,))#ind.fitness.values != np.inf else None)\n",
    "stats.register(\"avg\", np.nanmean)\n",
    "stats.register(\"std\", np.nanstd)\n",
    "stats.register(\"min\", np.nanmin)\n",
    "stats.register(\"max\", np.nanmax)"
   ]
  },
  {
   "cell_type": "code",
   "execution_count": 13,
   "metadata": {},
   "outputs": [
    {
     "name": "stdout",
     "output_type": "stream",
     "text": [
      "gen\tinvalid\tavg    \tstd   \tmin    \tmax        \tfitness_test\tbest_ind_length\tavg_length\tmax_length\tselection_time\tgeneration_time\n",
      "0  \t0      \t9059.25\t106978\t441.064\t1.50115e+06\t1905.96     \t21             \t8.44      \t22        \t0             \t0.0117748      \n",
      "1  \t65     \t614.078\t151.259\t441.064\t1853       \t1905.96     \t21             \t8.065     \t29        \t0.00262594    \t0.0601413      \n",
      "2  \t39     \t622.563\t287.601\t441.064\t3073       \t1905.96     \t21             \t9.895     \t30        \t0.00153947    \t0.0326195      \n",
      "3  \t26     \t1295.43\t5486.19\t386.522\t43498      \t341.989     \t16             \t11.915    \t30        \t0.00175738    \t0.0300682      \n",
      "4  \t19     \t791.574\t3094.24\t315.336\t42283      \t872.457     \t11             \t14.425    \t34        \t0.00174212    \t0.0280051      \n",
      "5  \t16     \t530.019\t57.4408\t315.336\t668        \t872.457     \t11             \t15.68     \t43        \t0.00122094    \t0.0313344      \n",
      "6  \t24     \t520.017\t121.998\t315.336\t1858       \t872.457     \t11             \t18.15     \t41        \t0.0014956     \t0.0229175      \n",
      "7  \t18     \t486.986\t84.6144\t312.867\t807        \t822.457     \t22             \t19.76     \t46        \t0.000983      \t0.025183       \n",
      "8  \t25     \t647.54 \t1718.9 \t312.008\t20844.5    \t767.457     \t18             \t20.88     \t48        \t0.000902414   \t0.0231524      \n",
      "9  \t33     \t505.601\t194.064\t312.008\t1927       \t767.457     \t18             \t22.685    \t46        \t0.00101948    \t0.0260086      \n",
      "10 \t30     \t633.117\t1585.46\t312.008\t20809.5    \t767.457     \t18             \t25.685    \t62        \t0.00116944    \t0.0281913      \n",
      "11 \t29     \t641.259\t1710.6 \t312.008\t20809.5    \t767.457     \t18             \t27.11     \t60        \t0.00110173    \t0.0277369      \n",
      "12 \t30     \t560.771\t1568.28\t312.008\t20809.5    \t767.457     \t18             \t28.03     \t66        \t0.00102901    \t0.0259328      \n",
      "13 \t21     \t3188.41\t28216.6\t312.008\t374563     \t767.457     \t18             \t29.94     \t68        \t0.000957727   \t0.0280674      \n",
      "14 \t20     \t1013.66\t4572.44\t312.008\t42894.6    \t767.457     \t18             \t29.295    \t70        \t0.00162959    \t0.0255711      \n",
      "15 \t23     \t1211.54\t4239.07\t312.008\t42247      \t767.457     \t18             \t30.15     \t58        \t0.000911474   \t0.0253613      \n",
      "16 \t31     \t1104.05\t3868.62\t312.008\t42212      \t767.457     \t18             \t32.035    \t56        \t0.00103402    \t0.0297716      \n",
      "17 \t31     \t1292.07\t4409.2 \t312.008\t42212      \t767.457     \t18             \t33.19     \t67        \t0.00139642    \t0.0324941      \n",
      "18 \t18     \t2002.76\t10434.3\t312.008\t125352     \t767.457     \t18             \t33.475    \t64        \t0.00154352    \t0.0391338      \n",
      "19 \t19     \t642.085\t1615.79\t312.008\t20852.5    \t767.457     \t18             \t33.165    \t64        \t0.00173545    \t0.0279195      \n",
      "20 \t31     \t1059.43\t2954   \t312.008\t20914.5    \t767.457     \t18             \t34.285    \t70        \t0.000965595   \t0.0311711      \n",
      "21 \t29     \t971.968\t2168.72\t312.008\t20809.5    \t767.457     \t18             \t36.32     \t84        \t0.00107026    \t0.0447075      \n",
      "22 \t26     \t5164.24\t57641.7\t312.008\t749685     \t767.457     \t18             \t35.38     \t83        \t0.00197816    \t0.0286245      \n",
      "23 \t24     \t2872.92\t28599.1\t312.008\t374529     \t767.457     \t18             \t33.36     \t72        \t0.000955343   \t0.0279531      \n",
      "24 \t17     \t693.329\t2144.91\t312.008\t20809.5    \t767.457     \t18             \t34.505    \t72        \t0.00162029    \t0.0325639      \n",
      "25 \t22     \t695.61 \t2180.8 \t312.008\t20811.5    \t767.457     \t18             \t33.67     \t73        \t0.00137281    \t0.0289159      \n",
      "26 \t20     \t1589.1 \t12873.6\t312.008\t170872     \t767.457     \t18             \t35.155    \t73        \t0.000896215   \t0.0272665      \n",
      "27 \t17     \t3937.77\t31141.2\t312.008\t374528     \t767.457     \t18             \t32.705    \t78        \t0.00104094    \t0.0289779      \n",
      "28 \t20     \t5074.39\t55910.2\t312.008\t749667     \t767.457     \t18             \t36.29     \t77        \t0.00105953    \t0.0273998      \n",
      "29 \t14     \t889.072\t3524.02\t312.008\t42211.5    \t767.457     \t18             \t37.835    \t83        \t0.00127006    \t0.028522       \n",
      "30 \t15     \t605.664\t1569.26\t312.008\t20811.5    \t767.457     \t18             \t38.225    \t85        \t0.00103021    \t0.0270865      \n",
      "31 \t22     \t961.057\t3699.1 \t312.008\t43398      \t767.457     \t18             \t40.26     \t103       \t0.00100112    \t0.0278876      \n",
      "32 \t20     \t571.909\t1583.62\t312.008\t20809.5    \t767.457     \t18             \t45.34     \t109       \t0.00118852    \t0.0395548      \n",
      "33 \t23     \t488.024\t517.484\t312.008\t6554.83    \t767.457     \t18             \t47.135    \t96        \t0.00113368    \t0.0308752      \n",
      "34 \t21     \t782.597\t3272.12\t312.008\t42251      \t767.457     \t18             \t47.265    \t94        \t0.000947952   \t0.0285654      \n",
      "35 \t24     \t527.994\t762.368\t312.008\t10090.7    \t767.457     \t18             \t48.71     \t99        \t0.00106978    \t0.032093       \n",
      "36 \t31     \t585.407\t695.546\t312.008\t6535.33    \t767.457     \t18             \t49.955    \t97        \t0.000968456   \t0.0295773      \n",
      "37 \t25     \t487.607\t221.848\t312.008\t1822.22    \t767.457     \t18             \t54.03     \t103       \t0.000982046   \t0.0304918      \n",
      "38 \t25     \t499.55 \t279.373\t312.008\t2419       \t767.457     \t18             \t54.555    \t105       \t0.00109959    \t0.0322168      \n",
      "39 \t28     \t509.241\t786.642\t312.008\t10090.7    \t767.457     \t18             \t51.935    \t104       \t0.00107098    \t0.0358102      \n",
      "40 \t31     \t511.559\t811.294\t312.008\t10082.7    \t767.457     \t18             \t52.57     \t118       \t0.00117469    \t0.0336573      \n",
      "41 \t24     \t489.59 \t549.336\t312.008\t7130.33    \t767.457     \t18             \t54.185    \t114       \t0.000996351   \t0.031152       \n",
      "42 \t38     \t503.642\t457.172\t312.008\t4731.33    \t767.457     \t18             \t54.655    \t121       \t0.000946045   \t0.031909       \n",
      "43 \t35     \t554.186\t960.269\t312.008\t10090.7    \t767.457     \t18             \t50.985    \t126       \t0.00107217    \t0.0315385      \n",
      "44 \t29     \t512.786\t830.387\t312.008\t10734.3    \t767.457     \t18             \t52.39     \t128       \t0.000967264   \t0.0299351      \n",
      "45 \t26     \t701.968\t1925.68\t312.008\t20806.5    \t767.457     \t18             \t57.225    \t131       \t0.00104284    \t0.0298638      \n",
      "46 \t30     \t486.428\t766.591\t312.008\t10056      \t767.457     \t18             \t63.875    \t153       \t0.00115633    \t0.0335603      \n",
      "47 \t24     \t424.635\t324.687\t312.008\t4216.42    \t767.457     \t18             \t67.735    \t148       \t0.00111008    \t0.0385892      \n",
      "48 \t21     \t674.987\t1789.01\t312.008\t20807.6    \t767.457     \t18             \t66.48     \t148       \t0.00112081    \t0.0411143      \n",
      "49 \t28     \t753.815\t2403.08\t312.008\t21400.5    \t767.457     \t18             \t68.5      \t152       \t0.00102568    \t0.0354798      \n",
      "50 \t25     \t586.67 \t1629.15\t312.008\t21400.5    \t767.457     \t18             \t70.4      \t147       \t0.00138235    \t0.0406625      \n",
      "51 \t26     \t691.308\t2214.6 \t312.008\t20840      \t767.457     \t18             \t71.165    \t148       \t0.00114155    \t0.0406551      \n",
      "52 \t16     \t578.94 \t1531.25\t312.008\t20775.5    \t767.457     \t18             \t68.48     \t157       \t0.00111437    \t0.0373676      \n",
      "53 \t31     \t453.847\t163.58 \t312.008\t1239.5     \t767.457     \t18             \t68.125    \t171       \t0.00101256    \t0.0409882      \n",
      "54 \t24     \t780.121\t2374.66\t312.008\t21452      \t767.457     \t18             \t67.84     \t160       \t0.0013361     \t0.0421875      \n",
      "55 \t29     \t809.859\t3583.8 \t312.008\t42281      \t767.457     \t18             \t72.02     \t174       \t0.00107121    \t0.0415878      \n",
      "56 \t37     \t440.653\t167.51 \t312.008\t1207.44    \t767.457     \t18             \t78.83     \t181       \t0.00110793    \t0.0393882      \n",
      "57 \t32     \t662.558\t1854.03\t312.008\t21452      \t767.457     \t18             \t83.36     \t190       \t0.00107002    \t0.0355768      \n",
      "58 \t28     \t760.301\t2304.96\t312.008\t21452      \t767.457     \t18             \t77.44     \t199       \t0.00155425    \t0.0349665      \n",
      "59 \t28     \t473.311\t203.408\t312.008\t1240.5     \t767.457     \t18             \t76.3      \t200       \t0.000999689   \t0.033648       \n",
      "60 \t23     \t588.531\t1571.62\t312.008\t20739.5    \t767.457     \t18             \t80.26     \t205       \t0.00245404    \t0.0402548      \n",
      "61 \t23     \t585.927\t1565.43\t312.008\t20772.5    \t767.457     \t18             \t78.415    \t208       \t0.00101471    \t0.0546556      \n",
      "62 \t26     \t455.981\t220.181\t312.008\t1922       \t767.457     \t18             \t83.705    \t221       \t0.00108743    \t0.0322073      \n",
      "63 \t24     \t588.491\t1575.81\t312.008\t20774.5    \t767.457     \t18             \t84.4      \t221       \t0.000933647   \t0.0347302      \n",
      "64 \t25     \t715.505\t2161.19\t312.008\t20774.5    \t767.457     \t18             \t86.365    \t217       \t0.00104952    \t0.0357003      \n",
      "65 \t20     \t492.811\t298.002\t312.008\t2909.92    \t767.457     \t18             \t89.135    \t221       \t0.00105262    \t0.0347276      \n",
      "66 \t26     \t546.747\t893.691\t312.008\t10090.7    \t767.457     \t18             \t87.44     \t213       \t0.00125384    \t0.0391064      \n",
      "67 \t22     \t584.376\t850.44 \t312.008\t10089.7    \t767.457     \t18             \t86.605    \t219       \t0.00192881    \t0.0443621      \n",
      "68 \t27     \t472.638\t205.837\t312.008\t1257.67    \t767.457     \t18             \t83.215    \t225       \t0.00140285    \t0.0417662      \n",
      "69 \t25     \t478.145\t218.315\t312.008\t1819.91    \t767.457     \t18             \t76.12     \t219       \t0.00116539    \t0.0362425      \n",
      "70 \t34     \t760.191\t3417.38\t312.008\t42247      \t767.457     \t18             \t65.99     \t229       \t0.00107098    \t0.0310178      \n",
      "71 \t27     \t547.894\t807.026\t312.008\t10123.8    \t767.457     \t18             \t60.72     \t239       \t0.000973225   \t0.03263        \n",
      "72 \t26     \t904.843\t3686.89\t312.008\t42247      \t767.457     \t18             \t57.85     \t238       \t0.0014112     \t0.03233        \n",
      "73 \t24     \t480.608\t202.613\t312.008\t1273.5     \t767.457     \t18             \t57.03     \t226       \t0.00105739    \t0.0355043      \n",
      "74 \t25     \t488.822\t240.641\t312.008\t2049.72    \t767.457     \t18             \t53.35     \t190       \t0.00213242    \t0.0346839      \n",
      "75 \t30     \t920.484\t2578.59\t312.008\t20950.5    \t767.457     \t18             \t54.45     \t198       \t0.00160193    \t0.034719       \n",
      "76 \t26     \t602.781\t1670.78\t312.008\t21992.5    \t767.457     \t18             \t53.71     \t108       \t0.00105405    \t0.0309885      \n",
      "77 \t29     \t553.478\t785.641\t312.008\t10107.7    \t767.457     \t18             \t54.47     \t102       \t0.000924349   \t0.0320513      \n",
      "78 \t22     \t471.701\t252.142\t312.008\t2229.33    \t767.457     \t18             \t52.22     \t102       \t0.000927448   \t0.0318339      \n",
      "79 \t35     \t596.318\t1663.04\t312.008\t20809.5    \t767.457     \t18             \t54.835    \t104       \t0.00198317    \t0.0418842      \n",
      "80 \t30     \t795.264\t3346.83\t312.008\t42254      \t767.457     \t18             \t59.73     \t117       \t0.00101161    \t0.0369301      \n",
      "81 \t24     \t554.834\t1074.38\t312.008\t10090.7    \t767.457     \t18             \t61.02     \t123       \t0.00126934    \t0.0382826      \n",
      "82 \t31     \t523.296\t811.531\t312.008\t10090.7    \t767.457     \t18             \t66.205    \t141       \t0.00223517    \t0.0368781      \n",
      "83 \t22     \t513.996\t763.88 \t312.008\t10090.7    \t767.457     \t18             \t63.735    \t126       \t0.00106287    \t0.0324442      \n",
      "84 \t34     \t487.616\t298.257\t312.008\t3135.5     \t767.457     \t18             \t65.335    \t135       \t0.00105429    \t0.0309217      \n",
      "85 \t27     \t859.727\t3589.17\t312.008\t42211      \t767.457     \t18             \t61.55     \t139       \t0.000961781   \t0.0326009      \n",
      "86 \t39     \t535.436\t812.024\t312.008\t10089.7    \t767.457     \t18             \t65.015    \t145       \t0.00102925    \t0.0368443      \n",
      "87 \t24     \t721.442\t2195.78\t312.008\t20879.5    \t767.457     \t18             \t64.91     \t128       \t0.00177264    \t0.037987       \n",
      "88 \t32     \t647.899\t1630.46\t312.008\t20809.5    \t767.457     \t18             \t63.075    \t141       \t0.00154734    \t0.0482392      \n",
      "89 \t28     \t610.864\t1647.73\t312.008\t20809.5    \t767.457     \t18             \t61.19     \t123       \t0.00120354    \t0.042984       \n",
      "90 \t28     \t515.975\t831.71 \t312.008\t10054.7    \t767.457     \t18             \t62.475    \t132       \t0.00228095    \t0.0540278      \n",
      "91 \t31     \t539.9  \t1648.68\t312.008\t21452      \t767.457     \t18             \t62.355    \t143       \t0.00150681    \t0.0323331      \n",
      "92 \t23     \t483.708\t426.445\t312.008\t5497       \t767.457     \t18             \t66.76     \t136       \t0.00106478    \t0.0400784      \n",
      "93 \t31     \t603.302\t1614.96\t312.008\t20811.5    \t767.457     \t18             \t71.765    \t144       \t0.00174356    \t0.0356367      \n",
      "94 \t28     \t720.145\t2210.67\t312.008\t20879.5    \t767.457     \t18             \t70.15     \t138       \t0.00167012    \t0.0361347      \n",
      "95 \t30     \t1100.15\t6822.22\t312.008\t86348      \t767.457     \t18             \t71.44     \t151       \t0.00131774    \t0.0399506      \n",
      "96 \t27     \t471.157\t174.508\t312.008\t1234.5     \t767.457     \t18             \t73.975    \t169       \t0.00117826    \t0.0370829      \n",
      "97 \t27     \t447.273\t213.41 \t312.008\t1852.94    \t767.457     \t18             \t76.17     \t141       \t0.00114703    \t0.0346053      \n",
      "98 \t28     \t518.573\t788.09 \t312.008\t10090.7    \t767.457     \t18             \t78.815    \t152       \t0.00103927    \t0.0378053      \n",
      "99 \t31     \t556.499\t904.507\t312.008\t10057.7    \t767.457     \t18             \t79.59     \t155       \t0.0011065     \t0.0352564      \n",
      "100\t36     \t925.541\t3845.95\t312.008\t42889.5    \t767.457     \t18             \t82.77     \t152       \t0.00109673    \t0.0384719      \n",
      "101\t34     \t736.934\t3348.94\t312.008\t42889.5    \t767.457     \t18             \t80.19     \t152       \t0.00109768    \t0.0386634      \n",
      "102\t43     \t453.693\t193.602\t312.008\t1754       \t767.457     \t18             \t85.845    \t146       \t0.00129676    \t0.0439987      \n",
      "103\t37     \t560.001\t1619.46\t312.008\t20809.5    \t767.457     \t18             \t85.665    \t147       \t0.00108647    \t0.0361052      \n",
      "104\t37     \t570.713\t1613.04\t312.008\t20774.6    \t767.457     \t18             \t85.96     \t149       \t0.00113845    \t0.0387785      \n",
      "105\t37     \t509.309\t776.522\t312.008\t10055.7    \t767.457     \t18             \t90.085    \t163       \t0.00135088    \t0.0392685      \n",
      "106\t35     \t448.087\t253.662\t312.008\t2500.17    \t767.457     \t18             \t89.69     \t154       \t0.00118876    \t0.0359039      \n",
      "107\t27     \t5089.39\t57307.3\t312.008\t749684     \t767.457     \t18             \t87.305    \t159       \t0.00108385    \t0.0381584      \n",
      "108\t27     \t447.715\t225.742\t312.008\t1862.75    \t767.457     \t18             \t85.685    \t169       \t0.00116658    \t0.0442388      \n",
      "109\t35     \t462.556\t213.425\t312.008\t1848       \t767.457     \t18             \t80.345    \t158       \t0.000967741   \t0.0349634      \n",
      "110\t33     \t429.543\t208.65 \t312.008\t1833.5     \t767.457     \t18             \t81.175    \t169       \t0.00105119    \t0.0333302      \n",
      "111\t34     \t475.376\t239.956\t312.008\t1862.75    \t767.457     \t18             \t84.245    \t155       \t0.00110316    \t0.0358531      \n",
      "112\t28     \t454.596\t221.998\t312.008\t1869.5     \t767.457     \t18             \t87.055    \t164       \t0.00101423    \t0.0339775      \n",
      "113\t36     \t497.617\t781.685\t312.008\t10123.7    \t767.457     \t18             \t87.705    \t179       \t0.000953436   \t0.0510747      \n",
      "114\t34     \t162719 \t2.05678e+06\t312.008\t2.62603e+07\t767.457     \t18             \t87.05     \t144       \t0.00176978    \t0.0484567      \n",
      "115\t30     \t576.254\t1066.75    \t312.008\t10090.7    \t767.457     \t18             \t87.19     \t147       \t0.00117779    \t0.0436802      \n",
      "116\t37     \t447.614\t195.919    \t312.008\t1886       \t767.457     \t18             \t82.8      \t159       \t0.00106359    \t0.0478168      \n",
      "117\t35     \t586.264\t1602.61    \t312.008\t20809.5    \t767.457     \t18             \t84.93     \t158       \t0.00150633    \t0.035182       \n",
      "118\t32     \t460.91 \t194.602    \t312.008\t1851.03    \t767.457     \t18             \t86.93     \t163       \t0.00104284    \t0.0351892      \n",
      "119\t27     \t478.621\t252.312    \t312.008\t1817       \t767.457     \t18             \t86.87     \t165       \t0.00101161    \t0.0363629      \n",
      "120\t32     \t520.726\t823.473    \t312.008\t10733.3    \t767.457     \t18             \t93.835    \t176       \t0.00119019    \t0.0348976      \n",
      "121\t31     \t697.887\t3238.92    \t312.008\t42248      \t767.457     \t18             \t101.315   \t187       \t0.00169778    \t0.0467758      \n",
      "122\t32     \t482.731\t276.168    \t312.008\t1852.5     \t767.457     \t18             \t103.26    \t169       \t0.00256276    \t0.0371776      \n",
      "123\t24     \t475.497\t226.399    \t312.008\t1850.97    \t767.457     \t18             \t101.75    \t175       \t0.000972748   \t0.0370655      \n",
      "124\t29     \t617.696\t1268.63    \t312.008\t13630.7    \t767.457     \t18             \t98.925    \t175       \t0.00104952    \t0.0360527      \n",
      "125\t32     \t519.778\t816.699    \t312.008\t10703.2    \t767.457     \t18             \t99.93     \t168       \t0.00106716    \t0.03828        \n",
      "126\t23     \t463.771\t230.861    \t312.008\t1822.38    \t767.457     \t18             \t99.87     \t170       \t0.00106621    \t0.0395284      \n",
      "127\t17     \t612.777\t1591.63    \t312.008\t20792      \t767.457     \t18             \t95.32     \t175       \t0.00100231    \t0.0353215      \n",
      "128\t22     \t684.527\t1853.19    \t312.008\t20774.5    \t767.457     \t18             \t88.675    \t165       \t0.000957966   \t0.111487       \n",
      "129\t26     \t488.408\t384.346    \t312.008\t3657.5     \t767.457     \t18             \t88.535    \t168       \t0.00227523    \t0.0519986      \n",
      "130\t26     \t577.584\t1560.62    \t312.008\t20774.5    \t767.457     \t18             \t93.625    \t170       \t0.00319958    \t0.0719049      \n",
      "131\t26     \t880.914\t2781.49    \t312.008\t21453      \t767.457     \t18             \t91.175    \t192       \t0.00147533    \t0.041503       \n",
      "132\t29     \t624.696\t1738.31    \t312.008\t20809.5    \t767.457     \t18             \t83.06     \t159       \t0.0011344     \t0.0388873      \n",
      "133\t37     \t471.158\t236.557    \t312.008\t1850       \t767.457     \t18             \t79.15     \t159       \t0.00139809    \t0.0401907      \n",
      "134\t40     \t608.652\t1682.32    \t312.008\t21452      \t767.457     \t18             \t74.71     \t170       \t0.00134277    \t0.0517073      \n",
      "135\t36     \t794.66 \t2497.05    \t312.008\t21434.5    \t767.457     \t18             \t73.015    \t170       \t0.00187111    \t0.0363851      \n",
      "136\t37     \t462.964\t237.125    \t312.008\t1804.5     \t767.457     \t18             \t73.755    \t176       \t0.00125813    \t0.0371926      \n",
      "137\t31     \t662.309\t1727.88    \t312.008\t20809.5    \t767.457     \t18             \t74.54     \t176       \t0.00116229    \t0.0366564      \n",
      "138\t25     \t642.494\t1704.41    \t312.008\t20808.6    \t767.457     \t18             \t73.855    \t175       \t0.0011487     \t0.0388541      \n",
      "139\t31     \t660.346\t1319.66    \t312.008\t10769.3    \t767.457     \t18             \t76.9      \t142       \t0.00116992    \t0.0351818      \n",
      "140\t36     \t565.838\t869.223    \t312.008\t10053.7    \t767.457     \t18             \t80        \t154       \t0.00105262    \t0.034441       \n",
      "141\t38     \t490.052\t285.522    \t312.008\t2909.92    \t767.457     \t18             \t79.96     \t158       \t0.00112987    \t0.0371614      \n",
      "142\t32     \t587.755\t1640.49    \t312.008\t21422      \t767.457     \t18             \t86.405    \t164       \t0.00114393    \t0.0374742      \n",
      "143\t30     \t589.457\t1580.88    \t312.008\t20809.5    \t767.457     \t18             \t78.41     \t179       \t0.00119925    \t0.0367811      \n",
      "144\t25     \t1062.88\t3803.95    \t312.008\t42282      \t767.457     \t18             \t76.845    \t157       \t0.00119185    \t0.0400317      \n",
      "145\t20     \t665.83 \t1691.39    \t312.008\t20774.5    \t767.457     \t18             \t80.585    \t164       \t0.00197411    \t0.0393147      \n",
      "146\t27     \t550.309\t780.675    \t312.008\t10020.7    \t767.457     \t18             \t87        \t179       \t0.00118399    \t0.0385408      \n",
      "147\t18     \t780.245\t1947.48    \t312.008\t20739.5    \t767.457     \t18             \t89.365    \t181       \t0.00111771    \t0.0380666      \n",
      "148\t18     \t988.311\t2646.1     \t312.008\t21422      \t767.457     \t18             \t91.46     \t188       \t0.00118423    \t0.0428684      \n",
      "149\t18     \t681.468\t1740.36    \t312.008\t20773.5    \t767.457     \t18             \t89.07     \t177       \t0.00121593    \t0.0413318      \n",
      "150\t22     \t647.274\t1711.73    \t312.008\t20810.5    \t767.457     \t18             \t89.115    \t182       \t0.00133324    \t0.0380759      \n"
     ]
    }
   ],
   "source": [
    "# perform the Grammatical Evolution flow:\n",
    "population, logbook = algorithms.ge_eaSimpleWithElitism(population, toolbox, cxpb=P_CROSSOVER, mutpb=P_MUTATION,\n",
    "                                          ngen=MAX_GENERATIONS, elite_size=ELITE_SIZE,\n",
    "                                          bnf_grammar=BNF_GRAMMAR, codon_size=CODON_SIZE, \n",
    "                                          max_tree_depth=MAX_TREE_DEPTH, max_wraps=MAX_WRAPS,\n",
    "                                          points_train=[X_train, y_train], \n",
    "                                          points_test=[X_test, y_test], \n",
    "                                          stats=stats, halloffame=hof, verbose=True)"
   ]
  },
  {
   "cell_type": "code",
   "execution_count": 14,
   "metadata": {},
   "outputs": [
    {
     "name": "stdout",
     "output_type": "stream",
     "text": [
      "Best individual: \n",
      " x[0]/2*x[0]+x[0]/x[0]-x[0]/x[0]*x[0]\n",
      "\n",
      "Training Fitness:  312.00842611402373\n",
      "Depth:  8\n",
      "Length of the genome:  18\n",
      "Used portion of the genome: 0.89\n"
     ]
    }
   ],
   "source": [
    "import textwrap\n",
    "best = hof.items[0].phenotype\n",
    "print(\"Best individual: \\n\",\"\\n\".join(textwrap.wrap(best,80)))\n",
    "print(\"\\nTraining Fitness: \", hof.items[0].fitness.values[0])\n",
    "print(\"Depth: \", hof.items[0].depth)\n",
    "print(\"Length of the genome: \", len(hof.items[0].genome))\n",
    "print(f'Used portion of the genome: {hof.items[0].used_codons/len(hof.items[0].genome):.2f}')"
   ]
  },
  {
   "cell_type": "code",
   "execution_count": 15,
   "metadata": {},
   "outputs": [],
   "source": [
    "max_fitness_values, mean_fitness_values = logbook.select(\"max\", \"avg\")\n",
    "min_fitness_values, std_fitness_values = logbook.select(\"min\", \"std\")\n",
    "fitness_test = logbook.select(\"fitness_test\")\n",
    "best_ind_length = logbook.select(\"best_ind_length\")\n",
    "avg_length = logbook.select(\"avg_length\")\n",
    "max_length = logbook.select(\"max_length\")\n",
    "selection_time = logbook.select(\"selection_time\")\n",
    "generation_time = logbook.select(\"generation_time\")\n",
    "gen, invalid = logbook.select(\"gen\", \"invalid\")"
   ]
  },
  {
   "cell_type": "code",
   "execution_count": 16,
   "metadata": {},
   "outputs": [
    {
     "data": {
      "image/png": "[encoded data removed]",
      "text/plain": [
       "<Figure size 432x288 with 1 Axes>"
      ]
     },
     "metadata": {
      "needs_background": "light"
     },
     "output_type": "display_data"
    }
   ],
   "source": [
    "plt.plot(gen, min_fitness_values, color='red', label=\"Training fitness\")\n",
    "plt.plot(gen, fitness_test, color='blue', label=\"Test fitness\")\n",
    "plt.legend(fontsize=12)\n",
    "plt.xlabel('Generations', fontsize=14)\n",
    "plt.ylabel('Best Fitness', fontsize=14)\n",
    "plt.title('Best Fitness over Generations', fontsize=16)\n",
    "plt.show()"
   ]
  },
  {
   "cell_type": "code",
   "execution_count": 17,
   "metadata": {},
   "outputs": [
    {
     "data": {
      "image/png": "[encoded data removed]",
      "text/plain": [
       "<Figure size 432x288 with 1 Axes>"
      ]
     },
     "metadata": {
      "needs_background": "light"
     },
     "output_type": "display_data"
    }
   ],
   "source": [
    "plt.plot(gen, max_length, color='red', label=\"Maximum\")\n",
    "plt.plot(gen, avg_length, color='blue', label=\"Average\")\n",
    "plt.plot(gen, best_ind_length, color='green', label=\"Best individual\")\n",
    "plt.legend(fontsize=12)\n",
    "plt.xlabel('Generations', fontsize=14)\n",
    "plt.ylabel('Genome Length', fontsize=14)\n",
    "plt.title('Genome Length over Generations', fontsize=16)\n",
    "plt.show()"
   ]
  },
  {
   "cell_type": "code",
   "execution_count": null,
   "metadata": {},
   "outputs": [],
   "source": []
  }
 ],
 "metadata": {
  "interpreter": {
   "hash": "ebeabf5d06ed91028509ad9805f066b44b9c23fee1bc267ef60668837e5ac050"
  },
  "kernelspec": {
   "display_name": "Python 3.6.9 ('project_dir': venv)",
   "language": "python",
   "name": "python3"
  },
  "language_info": {
   "codemirror_mode": {
    "name": "ipython",
    "version": 3
   },
   "file_extension": ".py",
   "mimetype": "text/x-python",
   "name": "python",
   "nbconvert_exporter": "python",
   "pygments_lexer": "ipython3",
   "version": "3.6.9"
  },
  "orig_nbformat": 4
 },
 "nbformat": 4,
 "nbformat_minor": 2
}
